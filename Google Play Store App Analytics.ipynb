{
  "cells":[
    {
      "cell_type":"markdown",
      "source":[
        "# Introduction\n",
        "\n",
        "In this notebook, we will do a comprehensive analysis of the Android app market by comparing thousands of apps in the Google Play store."
      ],
      "attachments":{
        
      },
      "metadata":{
        
      }
    },
    {
      "cell_type":"markdown",
      "source":[
        "# About the Dataset of Google Play Store Apps & Reviews"
      ],
      "attachments":{
        
      },
      "metadata":{
        
      }
    },
    {
      "cell_type":"markdown",
      "source":[
        "**Data Source:** <br>\n",
        "App and review data was scraped from the Google Play Store by Lavanya Gupta in 2018. Original files listed [here](\n",
        "https:\/\/www.kaggle.com\/lava18\/google-play-store-apps)."
      ],
      "attachments":{
        
      },
      "metadata":{
        
      }
    },
    {
      "cell_type":"markdown",
      "source":[
        "# Import Statements"
      ],
      "attachments":{
        
      },
      "metadata":{
        
      }
    },
    {
      "cell_type":"code",
      "source":[
        "import pandas as pd\n",
        "import plotly.express as px"
      ],
      "execution_count":19,
      "outputs":[
        
      ],
      "metadata":{
        
      }
    },
    {
      "cell_type":"markdown",
      "source":[
        "# Notebook Presentation"
      ],
      "attachments":{
        
      },
      "metadata":{
        
      }
    },
    {
      "cell_type":"code",
      "source":[
        "# Show numeric output in decimal format e.g., 2.15\n",
        "pd.options.display.float_format = '{:,.2f}'.format"
      ],
      "execution_count":20,
      "outputs":[
        
      ],
      "metadata":{
        
      }
    },
    {
      "cell_type":"markdown",
      "source":[
        "# Read the Dataset"
      ],
      "attachments":{
        
      },
      "metadata":{
        
      }
    },
    {
      "cell_type":"code",
      "source":[
        "df_apps = pd.read_csv('apps.csv')"
      ],
      "execution_count":21,
      "outputs":[
        
      ],
      "metadata":{
        
      }
    },
    {
      "cell_type":"markdown",
      "source":[
        "# Data Cleaning"
      ],
      "attachments":{
        
      },
      "metadata":{
        
      }
    },
    {
      "cell_type":"markdown",
      "source":[
        "**Challenge**: How many rows and columns does `df_apps` have? What are the column names? Look at a random sample of 5 different rows with [.sample()](https:\/\/pandas.pydata.org\/pandas-docs\/stable\/reference\/api\/pandas.DataFrame.sample.html)."
      ],
      "attachments":{
        
      },
      "metadata":{
        
      }
    },
    {
      "cell_type":"code",
      "source":[
        "df_apps.shape"
      ],
      "execution_count":4,
      "outputs":[
        {
          "data":{
            "text\/plain":[
              "(10841, 12)"
            ]
          },
          "metadata":{
            
          },
          "output_type":"display_data"
        }
      ],
      "metadata":{
        
      }
    },
    {
      "cell_type":"code",
      "source":[
        "df_apps.describe()"
      ],
      "execution_count":5,
      "outputs":[
        {
          "data":{
            "text\/html":[
              "<div>\n",
              "<style scoped>\n",
              "    .dataframe tbody tr th:only-of-type {\n",
              "        vertical-align: middle;\n",
              "    }\n",
              "\n",
              "    .dataframe tbody tr th {\n",
              "        vertical-align: top;\n",
              "    }\n",
              "\n",
              "    .dataframe thead th {\n",
              "        text-align: right;\n",
              "    }\n",
              "<\/style>\n",
              "<table border=\"1\" class=\"dataframe\">\n",
              "  <thead>\n",
              "    <tr style=\"text-align: right;\">\n",
              "      <th><\/th>\n",
              "      <th>Rating<\/th>\n",
              "      <th>Reviews<\/th>\n",
              "      <th>Size_MBs<\/th>\n",
              "    <\/tr>\n",
              "  <\/thead>\n",
              "  <tbody>\n",
              "    <tr>\n",
              "      <th>count<\/th>\n",
              "      <td>9,367.00<\/td>\n",
              "      <td>10,841.00<\/td>\n",
              "      <td>10,841.00<\/td>\n",
              "    <\/tr>\n",
              "    <tr>\n",
              "      <th>mean<\/th>\n",
              "      <td>4.19<\/td>\n",
              "      <td>444,111.93<\/td>\n",
              "      <td>19.77<\/td>\n",
              "    <\/tr>\n",
              "    <tr>\n",
              "      <th>std<\/th>\n",
              "      <td>0.52<\/td>\n",
              "      <td>2,927,628.66<\/td>\n",
              "      <td>21.40<\/td>\n",
              "    <\/tr>\n",
              "    <tr>\n",
              "      <th>min<\/th>\n",
              "      <td>1.00<\/td>\n",
              "      <td>0.00<\/td>\n",
              "      <td>0.01<\/td>\n",
              "    <\/tr>\n",
              "    <tr>\n",
              "      <th>25%<\/th>\n",
              "      <td>4.00<\/td>\n",
              "      <td>38.00<\/td>\n",
              "      <td>4.90<\/td>\n",
              "    <\/tr>\n",
              "    <tr>\n",
              "      <th>50%<\/th>\n",
              "      <td>4.30<\/td>\n",
              "      <td>2,094.00<\/td>\n",
              "      <td>11.00<\/td>\n",
              "    <\/tr>\n",
              "    <tr>\n",
              "      <th>75%<\/th>\n",
              "      <td>4.50<\/td>\n",
              "      <td>54,768.00<\/td>\n",
              "      <td>27.00<\/td>\n",
              "    <\/tr>\n",
              "    <tr>\n",
              "      <th>max<\/th>\n",
              "      <td>5.00<\/td>\n",
              "      <td>78,158,306.00<\/td>\n",
              "      <td>100.00<\/td>\n",
              "    <\/tr>\n",
              "  <\/tbody>\n",
              "<\/table>\n",
              "<\/div>"
            ]
          },
          "metadata":{
            
          },
          "output_type":"display_data"
        }
      ],
      "metadata":{
        
      }
    },
    {
      "cell_type":"code",
      "source":[
        "df_apps.sample()"
      ],
      "execution_count":6,
      "outputs":[
        {
          "data":{
            "text\/html":[
              "<div>\n",
              "<style scoped>\n",
              "    .dataframe tbody tr th:only-of-type {\n",
              "        vertical-align: middle;\n",
              "    }\n",
              "\n",
              "    .dataframe tbody tr th {\n",
              "        vertical-align: top;\n",
              "    }\n",
              "\n",
              "    .dataframe thead th {\n",
              "        text-align: right;\n",
              "    }\n",
              "<\/style>\n",
              "<table border=\"1\" class=\"dataframe\">\n",
              "  <thead>\n",
              "    <tr style=\"text-align: right;\">\n",
              "      <th><\/th>\n",
              "      <th>App<\/th>\n",
              "      <th>Category<\/th>\n",
              "      <th>Rating<\/th>\n",
              "      <th>Reviews<\/th>\n",
              "      <th>Size_MBs<\/th>\n",
              "      <th>Installs<\/th>\n",
              "      <th>Type<\/th>\n",
              "      <th>Price<\/th>\n",
              "      <th>Content_Rating<\/th>\n",
              "      <th>Genres<\/th>\n",
              "      <th>Last_Updated<\/th>\n",
              "      <th>Android_Ver<\/th>\n",
              "    <\/tr>\n",
              "  <\/thead>\n",
              "  <tbody>\n",
              "    <tr>\n",
              "      <th>3412<\/th>\n",
              "      <td>AC WIFI<\/td>\n",
              "      <td>TOOLS<\/td>\n",
              "      <td>3.60<\/td>\n",
              "      <td>41<\/td>\n",
              "      <td>23.00<\/td>\n",
              "      <td>10,000<\/td>\n",
              "      <td>Free<\/td>\n",
              "      <td>0<\/td>\n",
              "      <td>Everyone<\/td>\n",
              "      <td>Tools<\/td>\n",
              "      <td>June 3, 2018<\/td>\n",
              "      <td>2.3 and up<\/td>\n",
              "    <\/tr>\n",
              "  <\/tbody>\n",
              "<\/table>\n",
              "<\/div>"
            ]
          },
          "metadata":{
            
          },
          "output_type":"display_data"
        }
      ],
      "metadata":{
        
      }
    },
    {
      "cell_type":"markdown",
      "source":[
        "### Drop Unused Columns\n",
        "\n",
        "**Challenge**: Remove the columns called `Last_Updated` and `Android_Version` from the DataFrame. We will not use these columns. "
      ],
      "attachments":{
        
      },
      "metadata":{
        
      }
    },
    {
      "cell_type":"code",
      "source":[
        "df_apps.drop(columns=['Last_Updated','Android_Ver'], inplace=True)\n",
        "df_apps.sample()"
      ],
      "execution_count":22,
      "outputs":[
        {
          "data":{
            "text\/html":[
              "<div>\n",
              "<style scoped>\n",
              "    .dataframe tbody tr th:only-of-type {\n",
              "        vertical-align: middle;\n",
              "    }\n",
              "\n",
              "    .dataframe tbody tr th {\n",
              "        vertical-align: top;\n",
              "    }\n",
              "\n",
              "    .dataframe thead th {\n",
              "        text-align: right;\n",
              "    }\n",
              "<\/style>\n",
              "<table border=\"1\" class=\"dataframe\">\n",
              "  <thead>\n",
              "    <tr style=\"text-align: right;\">\n",
              "      <th><\/th>\n",
              "      <th>App<\/th>\n",
              "      <th>Category<\/th>\n",
              "      <th>Rating<\/th>\n",
              "      <th>Reviews<\/th>\n",
              "      <th>Size_MBs<\/th>\n",
              "      <th>Installs<\/th>\n",
              "      <th>Type<\/th>\n",
              "      <th>Price<\/th>\n",
              "      <th>Content_Rating<\/th>\n",
              "      <th>Genres<\/th>\n",
              "    <\/tr>\n",
              "  <\/thead>\n",
              "  <tbody>\n",
              "    <tr>\n",
              "      <th>2826<\/th>\n",
              "      <td>Sat-Fi<\/td>\n",
              "      <td>COMMUNICATION<\/td>\n",
              "      <td>3.60<\/td>\n",
              "      <td>97<\/td>\n",
              "      <td>3.50<\/td>\n",
              "      <td>5,000<\/td>\n",
              "      <td>Free<\/td>\n",
              "      <td>0<\/td>\n",
              "      <td>Everyone<\/td>\n",
              "      <td>Communication<\/td>\n",
              "    <\/tr>\n",
              "  <\/tbody>\n",
              "<\/table>\n",
              "<\/div>"
            ]
          },
          "metadata":{
            
          },
          "output_type":"display_data"
        }
      ],
      "metadata":{
        
      }
    },
    {
      "cell_type":"markdown",
      "source":[
        "### Find and Remove NaN values in Ratings\n",
        "\n",
        "**Challenge**: How may rows have a NaN value (not-a-number) in the Ratings column? Create DataFrame called `df_apps_clean` that does not include these rows. "
      ],
      "attachments":{
        
      },
      "metadata":{
        
      }
    },
    {
      "cell_type":"code",
      "source":[
        "df_apps.isna().values.sum()"
      ],
      "execution_count":23,
      "outputs":[
        {
          "data":{
            "text\/plain":[
              "1475"
            ]
          },
          "metadata":{
            
          },
          "output_type":"display_data"
        }
      ],
      "metadata":{
        
      }
    },
    {
      "cell_type":"code",
      "source":[
        "df_apps.dropna(inplace=True)\n",
        "df_apps_clean = df_apps\n",
        "df_apps_clean.isna().values.sum()"
      ],
      "execution_count":24,
      "outputs":[
        {
          "data":{
            "text\/plain":[
              "0"
            ]
          },
          "metadata":{
            
          },
          "output_type":"display_data"
        }
      ],
      "metadata":{
        
      }
    },
    {
      "cell_type":"code",
      "source":[
        "df_apps_clean.head()"
      ],
      "execution_count":10,
      "outputs":[
        {
          "data":{
            "text\/html":[
              "<div>\n",
              "<style scoped>\n",
              "    .dataframe tbody tr th:only-of-type {\n",
              "        vertical-align: middle;\n",
              "    }\n",
              "\n",
              "    .dataframe tbody tr th {\n",
              "        vertical-align: top;\n",
              "    }\n",
              "\n",
              "    .dataframe thead th {\n",
              "        text-align: right;\n",
              "    }\n",
              "<\/style>\n",
              "<table border=\"1\" class=\"dataframe\">\n",
              "  <thead>\n",
              "    <tr style=\"text-align: right;\">\n",
              "      <th><\/th>\n",
              "      <th>App<\/th>\n",
              "      <th>Category<\/th>\n",
              "      <th>Rating<\/th>\n",
              "      <th>Reviews<\/th>\n",
              "      <th>Size_MBs<\/th>\n",
              "      <th>Installs<\/th>\n",
              "      <th>Type<\/th>\n",
              "      <th>Price<\/th>\n",
              "      <th>Content_Rating<\/th>\n",
              "      <th>Genres<\/th>\n",
              "    <\/tr>\n",
              "  <\/thead>\n",
              "  <tbody>\n",
              "    <tr>\n",
              "      <th>21<\/th>\n",
              "      <td>KBA-EZ Health Guide<\/td>\n",
              "      <td>MEDICAL<\/td>\n",
              "      <td>5.00<\/td>\n",
              "      <td>4<\/td>\n",
              "      <td>25.00<\/td>\n",
              "      <td>1<\/td>\n",
              "      <td>Free<\/td>\n",
              "      <td>0<\/td>\n",
              "      <td>Everyone<\/td>\n",
              "      <td>Medical<\/td>\n",
              "    <\/tr>\n",
              "    <tr>\n",
              "      <th>28<\/th>\n",
              "      <td>Ra Ga Ba<\/td>\n",
              "      <td>GAME<\/td>\n",
              "      <td>5.00<\/td>\n",
              "      <td>2<\/td>\n",
              "      <td>20.00<\/td>\n",
              "      <td>1<\/td>\n",
              "      <td>Paid<\/td>\n",
              "      <td>$1.49<\/td>\n",
              "      <td>Everyone<\/td>\n",
              "      <td>Arcade<\/td>\n",
              "    <\/tr>\n",
              "    <tr>\n",
              "      <th>47<\/th>\n",
              "      <td>Mu.F.O.<\/td>\n",
              "      <td>GAME<\/td>\n",
              "      <td>5.00<\/td>\n",
              "      <td>2<\/td>\n",
              "      <td>16.00<\/td>\n",
              "      <td>1<\/td>\n",
              "      <td>Paid<\/td>\n",
              "      <td>$0.99<\/td>\n",
              "      <td>Everyone<\/td>\n",
              "      <td>Arcade<\/td>\n",
              "    <\/tr>\n",
              "    <tr>\n",
              "      <th>82<\/th>\n",
              "      <td>Brick Breaker BR<\/td>\n",
              "      <td>GAME<\/td>\n",
              "      <td>5.00<\/td>\n",
              "      <td>7<\/td>\n",
              "      <td>19.00<\/td>\n",
              "      <td>5<\/td>\n",
              "      <td>Free<\/td>\n",
              "      <td>0<\/td>\n",
              "      <td>Everyone<\/td>\n",
              "      <td>Arcade<\/td>\n",
              "    <\/tr>\n",
              "    <tr>\n",
              "      <th>99<\/th>\n",
              "      <td>Anatomy &amp; Physiology Vocabulary Exam Review App<\/td>\n",
              "      <td>MEDICAL<\/td>\n",
              "      <td>5.00<\/td>\n",
              "      <td>1<\/td>\n",
              "      <td>4.60<\/td>\n",
              "      <td>5<\/td>\n",
              "      <td>Free<\/td>\n",
              "      <td>0<\/td>\n",
              "      <td>Everyone<\/td>\n",
              "      <td>Medical<\/td>\n",
              "    <\/tr>\n",
              "  <\/tbody>\n",
              "<\/table>\n",
              "<\/div>"
            ]
          },
          "metadata":{
            
          },
          "output_type":"display_data"
        }
      ],
      "metadata":{
        
      }
    },
    {
      "cell_type":"code",
      "source":[
        "df_apps_clean.shape"
      ],
      "execution_count":11,
      "outputs":[
        {
          "data":{
            "text\/plain":[
              "(9367, 10)"
            ]
          },
          "metadata":{
            
          },
          "output_type":"display_data"
        }
      ],
      "metadata":{
        
      }
    },
    {
      "cell_type":"markdown",
      "source":[
        "### Find and Remove Duplicates\n",
        "\n",
        "**Challenge**: Are there any duplicates in data? Check for duplicates using the [.duplicated()](https:\/\/pandas.pydata.org\/pandas-docs\/stable\/reference\/api\/pandas.DataFrame.duplicated.html) function. How many entries can you find for the \"Instagram\" app? Use [.drop_duplicates()](https:\/\/pandas.pydata.org\/pandas-docs\/stable\/reference\/api\/pandas.DataFrame.drop_duplicates.html) to remove any duplicates from `df_apps_clean`. "
      ],
      "attachments":{
        
      },
      "metadata":{
        
      }
    },
    {
      "cell_type":"code",
      "source":[
        "df_apps_clean.duplicated(subset=['App']).sum()"
      ],
      "execution_count":25,
      "outputs":[
        {
          "data":{
            "text\/plain":[
              "1170"
            ]
          },
          "metadata":{
            
          },
          "output_type":"display_data"
        }
      ],
      "metadata":{
        
      }
    },
    {
      "cell_type":"code",
      "source":[
        "df_apps_clean.duplicated(subset=['App'])"
      ],
      "execution_count":26,
      "outputs":[
        {
          "data":{
            "text\/html":[
              
            ]
          },
          "metadata":{
            
          },
          "output_type":"display_data"
        }
      ],
      "metadata":{
        
      }
    },
    {
      "cell_type":"code",
      "source":[
        "df_apps_clean.loc[df_apps_clean['App']=='Instagram']"
      ],
      "execution_count":27,
      "outputs":[
        {
          "data":{
            "text\/html":[
              "<div>\n",
              "<style scoped>\n",
              "    .dataframe tbody tr th:only-of-type {\n",
              "        vertical-align: middle;\n",
              "    }\n",
              "\n",
              "    .dataframe tbody tr th {\n",
              "        vertical-align: top;\n",
              "    }\n",
              "\n",
              "    .dataframe thead th {\n",
              "        text-align: right;\n",
              "    }\n",
              "<\/style>\n",
              "<table border=\"1\" class=\"dataframe\">\n",
              "  <thead>\n",
              "    <tr style=\"text-align: right;\">\n",
              "      <th><\/th>\n",
              "      <th>App<\/th>\n",
              "      <th>Category<\/th>\n",
              "      <th>Rating<\/th>\n",
              "      <th>Reviews<\/th>\n",
              "      <th>Size_MBs<\/th>\n",
              "      <th>Installs<\/th>\n",
              "      <th>Type<\/th>\n",
              "      <th>Price<\/th>\n",
              "      <th>Content_Rating<\/th>\n",
              "      <th>Genres<\/th>\n",
              "    <\/tr>\n",
              "  <\/thead>\n",
              "  <tbody>\n",
              "    <tr>\n",
              "      <th>10806<\/th>\n",
              "      <td>Instagram<\/td>\n",
              "      <td>SOCIAL<\/td>\n",
              "      <td>4.50<\/td>\n",
              "      <td>66577313<\/td>\n",
              "      <td>5.30<\/td>\n",
              "      <td>1,000,000,000<\/td>\n",
              "      <td>Free<\/td>\n",
              "      <td>0<\/td>\n",
              "      <td>Teen<\/td>\n",
              "      <td>Social<\/td>\n",
              "    <\/tr>\n",
              "    <tr>\n",
              "      <th>10808<\/th>\n",
              "      <td>Instagram<\/td>\n",
              "      <td>SOCIAL<\/td>\n",
              "      <td>4.50<\/td>\n",
              "      <td>66577446<\/td>\n",
              "      <td>5.30<\/td>\n",
              "      <td>1,000,000,000<\/td>\n",
              "      <td>Free<\/td>\n",
              "      <td>0<\/td>\n",
              "      <td>Teen<\/td>\n",
              "      <td>Social<\/td>\n",
              "    <\/tr>\n",
              "    <tr>\n",
              "      <th>10809<\/th>\n",
              "      <td>Instagram<\/td>\n",
              "      <td>SOCIAL<\/td>\n",
              "      <td>4.50<\/td>\n",
              "      <td>66577313<\/td>\n",
              "      <td>5.30<\/td>\n",
              "      <td>1,000,000,000<\/td>\n",
              "      <td>Free<\/td>\n",
              "      <td>0<\/td>\n",
              "      <td>Teen<\/td>\n",
              "      <td>Social<\/td>\n",
              "    <\/tr>\n",
              "    <tr>\n",
              "      <th>10810<\/th>\n",
              "      <td>Instagram<\/td>\n",
              "      <td>SOCIAL<\/td>\n",
              "      <td>4.50<\/td>\n",
              "      <td>66509917<\/td>\n",
              "      <td>5.30<\/td>\n",
              "      <td>1,000,000,000<\/td>\n",
              "      <td>Free<\/td>\n",
              "      <td>0<\/td>\n",
              "      <td>Teen<\/td>\n",
              "      <td>Social<\/td>\n",
              "    <\/tr>\n",
              "  <\/tbody>\n",
              "<\/table>\n",
              "<\/div>"
            ]
          },
          "metadata":{
            
          },
          "output_type":"display_data"
        }
      ],
      "metadata":{
        
      }
    },
    {
      "cell_type":"code",
      "source":[
        "df_apps_clean.drop_duplicates(subset=['App'], inplace=True)"
      ],
      "execution_count":28,
      "outputs":[
        
      ],
      "metadata":{
        
      }
    },
    {
      "cell_type":"code",
      "source":[
        "df_apps_clean.duplicated(subset=['App']).sum()"
      ],
      "execution_count":29,
      "outputs":[
        {
          "data":{
            "text\/plain":[
              "0"
            ]
          },
          "metadata":{
            
          },
          "output_type":"display_data"
        }
      ],
      "metadata":{
        
      }
    },
    {
      "cell_type":"code",
      "source":[
        "df_apps_clean.drop(columns=['Last_Updated','Android_Ver'], inplace=True)"
      ],
      "execution_count":31,
      "outputs":[
        {
          "ename":"KeyError",
          "evalue":"KeyError: \"['Last_Updated' 'Android_Ver'] not found in axis\"",
          "traceback":[
            "\u001b[0;31m---------------------------------------------------------------------------",
            "Traceback (most recent call last)",
            "    at line 1 in <module>",
            "KeyError: \"['Last_Updated' 'Android_Ver'] not found in axis\""
          ],
          "output_type":"error"
        }
      ],
      "metadata":{
        
      }
    },
    {
      "cell_type":"code",
      "source":[
        "df_apps_clean.shape"
      ],
      "execution_count":32,
      "outputs":[
        {
          "data":{
            "text\/plain":[
              "(8197, 10)"
            ]
          },
          "metadata":{
            
          },
          "output_type":"display_data"
        }
      ],
      "metadata":{
        
      }
    },
    {
      "cell_type":"markdown",
      "source":[
        "# Find Highest Rated Apps\n",
        "\n",
        "**Challenge**: Identify which apps are the highest rated. What problem might you encounter if you rely exclusively on ratings alone to determine the quality of an app?"
      ],
      "attachments":{
        
      },
      "metadata":{
        
      }
    },
    {
      "cell_type":"code",
      "source":[
        "df_apps_clean.sort_values(by='Rating', ascending=False)"
      ],
      "execution_count":33,
      "outputs":[
        {
          "data":{
            "text\/html":[
              "<div>\n",
              "<style scoped>\n",
              "    .dataframe tbody tr th:only-of-type {\n",
              "        vertical-align: middle;\n",
              "    }\n",
              "\n",
              "    .dataframe tbody tr th {\n",
              "        vertical-align: top;\n",
              "    }\n",
              "\n",
              "    .dataframe thead th {\n",
              "        text-align: right;\n",
              "    }\n",
              "<\/style>\n",
              "<table border=\"1\" class=\"dataframe\">\n",
              "  <thead>\n",
              "    <tr style=\"text-align: right;\">\n",
              "      <th><\/th>\n",
              "      <th>App<\/th>\n",
              "      <th>Category<\/th>\n",
              "      <th>Rating<\/th>\n",
              "      <th>Reviews<\/th>\n",
              "      <th>Size_MBs<\/th>\n",
              "      <th>Installs<\/th>\n",
              "      <th>Type<\/th>\n",
              "      <th>Price<\/th>\n",
              "      <th>Content_Rating<\/th>\n",
              "      <th>Genres<\/th>\n",
              "    <\/tr>\n",
              "  <\/thead>\n",
              "  <tbody>\n",
              "    <tr>\n",
              "      <th>21<\/th>\n",
              "      <td>KBA-EZ Health Guide<\/td>\n",
              "      <td>MEDICAL<\/td>\n",
              "      <td>5.00<\/td>\n",
              "      <td>4<\/td>\n",
              "      <td>25.00<\/td>\n",
              "      <td>1<\/td>\n",
              "      <td>Free<\/td>\n",
              "      <td>0<\/td>\n",
              "      <td>Everyone<\/td>\n",
              "      <td>Medical<\/td>\n",
              "    <\/tr>\n",
              "    <tr>\n",
              "      <th>1230<\/th>\n",
              "      <td>Sway Medical<\/td>\n",
              "      <td>MEDICAL<\/td>\n",
              "      <td>5.00<\/td>\n",
              "      <td>3<\/td>\n",
              "      <td>22.00<\/td>\n",
              "      <td>100<\/td>\n",
              "      <td>Free<\/td>\n",
              "      <td>0<\/td>\n",
              "      <td>Everyone<\/td>\n",
              "      <td>Medical<\/td>\n",
              "    <\/tr>\n",
              "    <tr>\n",
              "      <th>1227<\/th>\n",
              "      <td>AJ Men's Grooming<\/td>\n",
              "      <td>LIFESTYLE<\/td>\n",
              "      <td>5.00<\/td>\n",
              "      <td>2<\/td>\n",
              "      <td>22.00<\/td>\n",
              "      <td>100<\/td>\n",
              "      <td>Free<\/td>\n",
              "      <td>0<\/td>\n",
              "      <td>Everyone<\/td>\n",
              "      <td>Lifestyle<\/td>\n",
              "    <\/tr>\n",
              "    <tr>\n",
              "      <th>1224<\/th>\n",
              "      <td>FK Dedinje BGD<\/td>\n",
              "      <td>SPORTS<\/td>\n",
              "      <td>5.00<\/td>\n",
              "      <td>36<\/td>\n",
              "      <td>2.60<\/td>\n",
              "      <td>100<\/td>\n",
              "      <td>Free<\/td>\n",
              "      <td>0<\/td>\n",
              "      <td>Everyone<\/td>\n",
              "      <td>Sports<\/td>\n",
              "    <\/tr>\n",
              "    <tr>\n",
              "      <th>1223<\/th>\n",
              "      <td>CB VIDEO VISION<\/td>\n",
              "      <td>PHOTOGRAPHY<\/td>\n",
              "      <td>5.00<\/td>\n",
              "      <td>13<\/td>\n",
              "      <td>2.60<\/td>\n",
              "      <td>100<\/td>\n",
              "      <td>Free<\/td>\n",
              "      <td>0<\/td>\n",
              "      <td>Everyone<\/td>\n",
              "      <td>Photography<\/td>\n",
              "    <\/tr>\n",
              "    <tr>\n",
              "      <th>...<\/th>\n",
              "      <td>...<\/td>\n",
              "      <td>...<\/td>\n",
              "      <td>...<\/td>\n",
              "      <td>...<\/td>\n",
              "      <td>...<\/td>\n",
              "      <td>...<\/td>\n",
              "      <td>...<\/td>\n",
              "      <td>...<\/td>\n",
              "      <td>...<\/td>\n",
              "      <td>...<\/td>\n",
              "    <\/tr>\n",
              "    <tr>\n",
              "      <th>1721<\/th>\n",
              "      <td>Lottery Ticket Checker - Florida Results &amp; Lotto<\/td>\n",
              "      <td>TOOLS<\/td>\n",
              "      <td>1.00<\/td>\n",
              "      <td>3<\/td>\n",
              "      <td>41.00<\/td>\n",
              "      <td>500<\/td>\n",
              "      <td>Free<\/td>\n",
              "      <td>0<\/td>\n",
              "      <td>Everyone<\/td>\n",
              "      <td>Tools<\/td>\n",
              "    <\/tr>\n",
              "    <tr>\n",
              "      <th>728<\/th>\n",
              "      <td>Truck Driving Test Class 3 BC<\/td>\n",
              "      <td>FAMILY<\/td>\n",
              "      <td>1.00<\/td>\n",
              "      <td>1<\/td>\n",
              "      <td>2.00<\/td>\n",
              "      <td>50<\/td>\n",
              "      <td>Paid<\/td>\n",
              "      <td>$1.49<\/td>\n",
              "      <td>Everyone<\/td>\n",
              "      <td>Education<\/td>\n",
              "    <\/tr>\n",
              "    <tr>\n",
              "      <th>240<\/th>\n",
              "      <td>House party - live chat<\/td>\n",
              "      <td>DATING<\/td>\n",
              "      <td>1.00<\/td>\n",
              "      <td>1<\/td>\n",
              "      <td>9.20<\/td>\n",
              "      <td>10<\/td>\n",
              "      <td>Free<\/td>\n",
              "      <td>0<\/td>\n",
              "      <td>Mature 17+<\/td>\n",
              "      <td>Dating<\/td>\n",
              "    <\/tr>\n",
              "    <tr>\n",
              "      <th>1271<\/th>\n",
              "      <td>MbH BM<\/td>\n",
              "      <td>MEDICAL<\/td>\n",
              "      <td>1.00<\/td>\n",
              "      <td>1<\/td>\n",
              "      <td>2.30<\/td>\n",
              "      <td>100<\/td>\n",
              "      <td>Free<\/td>\n",
              "      <td>0<\/td>\n",
              "      <td>Everyone<\/td>\n",
              "      <td>Medical<\/td>\n",
              "    <\/tr>\n",
              "    <tr>\n",
              "      <th>617<\/th>\n",
              "      <td>DT future1 cam<\/td>\n",
              "      <td>TOOLS<\/td>\n",
              "      <td>1.00<\/td>\n",
              "      <td>1<\/td>\n",
              "      <td>24.00<\/td>\n",
              "      <td>50<\/td>\n",
              "      <td>Free<\/td>\n",
              "      <td>0<\/td>\n",
              "      <td>Everyone<\/td>\n",
              "      <td>Tools<\/td>\n",
              "    <\/tr>\n",
              "  <\/tbody>\n",
              "<\/table>\n",
              "<p>8197 rows × 10 columns<\/p>\n",
              "<\/div>"
            ]
          },
          "metadata":{
            
          },
          "output_type":"display_data"
        }
      ],
      "metadata":{
        
      }
    },
    {
      "cell_type":"markdown",
      "source":[
        "# Find 5 Largest Apps in terms of Size (MBs)\n",
        "\n",
        "**Challenge**: What's the size in megabytes (MB) of the largest Android apps in the Google Play Store. Based on the data, do you think there could be limit in place or can developers make apps as large as they please? "
      ],
      "attachments":{
        
      },
      "metadata":{
        
      }
    },
    {
      "cell_type":"code",
      "source":[
        "df_apps_clean.sort_values(by='Size_MBs', ascending=False)"
      ],
      "execution_count":34,
      "outputs":[
        {
          "data":{
            "text\/html":[
              "<div>\n",
              "<style scoped>\n",
              "    .dataframe tbody tr th:only-of-type {\n",
              "        vertical-align: middle;\n",
              "    }\n",
              "\n",
              "    .dataframe tbody tr th {\n",
              "        vertical-align: top;\n",
              "    }\n",
              "\n",
              "    .dataframe thead th {\n",
              "        text-align: right;\n",
              "    }\n",
              "<\/style>\n",
              "<table border=\"1\" class=\"dataframe\">\n",
              "  <thead>\n",
              "    <tr style=\"text-align: right;\">\n",
              "      <th><\/th>\n",
              "      <th>App<\/th>\n",
              "      <th>Category<\/th>\n",
              "      <th>Rating<\/th>\n",
              "      <th>Reviews<\/th>\n",
              "      <th>Size_MBs<\/th>\n",
              "      <th>Installs<\/th>\n",
              "      <th>Type<\/th>\n",
              "      <th>Price<\/th>\n",
              "      <th>Content_Rating<\/th>\n",
              "      <th>Genres<\/th>\n",
              "    <\/tr>\n",
              "  <\/thead>\n",
              "  <tbody>\n",
              "    <tr>\n",
              "      <th>9942<\/th>\n",
              "      <td>Talking Babsy Baby: Baby Games<\/td>\n",
              "      <td>LIFESTYLE<\/td>\n",
              "      <td>4.00<\/td>\n",
              "      <td>140995<\/td>\n",
              "      <td>100.00<\/td>\n",
              "      <td>10,000,000<\/td>\n",
              "      <td>Free<\/td>\n",
              "      <td>0<\/td>\n",
              "      <td>Everyone<\/td>\n",
              "      <td>Lifestyle;Pretend Play<\/td>\n",
              "    <\/tr>\n",
              "    <tr>\n",
              "      <th>10687<\/th>\n",
              "      <td>Hungry Shark Evolution<\/td>\n",
              "      <td>GAME<\/td>\n",
              "      <td>4.50<\/td>\n",
              "      <td>6074334<\/td>\n",
              "      <td>100.00<\/td>\n",
              "      <td>100,000,000<\/td>\n",
              "      <td>Free<\/td>\n",
              "      <td>0<\/td>\n",
              "      <td>Teen<\/td>\n",
              "      <td>Arcade<\/td>\n",
              "    <\/tr>\n",
              "    <tr>\n",
              "      <th>9943<\/th>\n",
              "      <td>Miami crime simulator<\/td>\n",
              "      <td>GAME<\/td>\n",
              "      <td>4.00<\/td>\n",
              "      <td>254518<\/td>\n",
              "      <td>100.00<\/td>\n",
              "      <td>10,000,000<\/td>\n",
              "      <td>Free<\/td>\n",
              "      <td>0<\/td>\n",
              "      <td>Mature 17+<\/td>\n",
              "      <td>Action<\/td>\n",
              "    <\/tr>\n",
              "    <tr>\n",
              "      <th>9944<\/th>\n",
              "      <td>Gangster Town: Vice District<\/td>\n",
              "      <td>FAMILY<\/td>\n",
              "      <td>4.30<\/td>\n",
              "      <td>65146<\/td>\n",
              "      <td>100.00<\/td>\n",
              "      <td>10,000,000<\/td>\n",
              "      <td>Free<\/td>\n",
              "      <td>0<\/td>\n",
              "      <td>Mature 17+<\/td>\n",
              "      <td>Simulation<\/td>\n",
              "    <\/tr>\n",
              "    <tr>\n",
              "      <th>3144<\/th>\n",
              "      <td>Vi Trainer<\/td>\n",
              "      <td>HEALTH_AND_FITNESS<\/td>\n",
              "      <td>3.60<\/td>\n",
              "      <td>124<\/td>\n",
              "      <td>100.00<\/td>\n",
              "      <td>5,000<\/td>\n",
              "      <td>Free<\/td>\n",
              "      <td>0<\/td>\n",
              "      <td>Everyone<\/td>\n",
              "      <td>Health &amp; Fitness<\/td>\n",
              "    <\/tr>\n",
              "    <tr>\n",
              "      <th>...<\/th>\n",
              "      <td>...<\/td>\n",
              "      <td>...<\/td>\n",
              "      <td>...<\/td>\n",
              "      <td>...<\/td>\n",
              "      <td>...<\/td>\n",
              "      <td>...<\/td>\n",
              "      <td>...<\/td>\n",
              "      <td>...<\/td>\n",
              "      <td>...<\/td>\n",
              "      <td>...<\/td>\n",
              "    <\/tr>\n",
              "    <tr>\n",
              "      <th>5798<\/th>\n",
              "      <td>ExDialer PRO Key<\/td>\n",
              "      <td>COMMUNICATION<\/td>\n",
              "      <td>4.50<\/td>\n",
              "      <td>5474<\/td>\n",
              "      <td>0.02<\/td>\n",
              "      <td>100,000<\/td>\n",
              "      <td>Paid<\/td>\n",
              "      <td>$3.99<\/td>\n",
              "      <td>Everyone<\/td>\n",
              "      <td>Communication<\/td>\n",
              "    <\/tr>\n",
              "    <tr>\n",
              "      <th>2648<\/th>\n",
              "      <td>Ad Remove Plugin for App2SD<\/td>\n",
              "      <td>PRODUCTIVITY<\/td>\n",
              "      <td>4.10<\/td>\n",
              "      <td>66<\/td>\n",
              "      <td>0.02<\/td>\n",
              "      <td>1,000<\/td>\n",
              "      <td>Paid<\/td>\n",
              "      <td>$1.29<\/td>\n",
              "      <td>Everyone<\/td>\n",
              "      <td>Productivity<\/td>\n",
              "    <\/tr>\n",
              "    <tr>\n",
              "      <th>2684<\/th>\n",
              "      <td>My baby firework (Remove ad)<\/td>\n",
              "      <td>FAMILY<\/td>\n",
              "      <td>4.10<\/td>\n",
              "      <td>30<\/td>\n",
              "      <td>0.01<\/td>\n",
              "      <td>1,000<\/td>\n",
              "      <td>Paid<\/td>\n",
              "      <td>$0.99<\/td>\n",
              "      <td>Everyone<\/td>\n",
              "      <td>Entertainment<\/td>\n",
              "    <\/tr>\n",
              "    <tr>\n",
              "      <th>7966<\/th>\n",
              "      <td>Market Update Helper<\/td>\n",
              "      <td>LIBRARIES_AND_DEMO<\/td>\n",
              "      <td>4.10<\/td>\n",
              "      <td>20145<\/td>\n",
              "      <td>0.01<\/td>\n",
              "      <td>1,000,000<\/td>\n",
              "      <td>Free<\/td>\n",
              "      <td>0<\/td>\n",
              "      <td>Everyone<\/td>\n",
              "      <td>Libraries &amp; Demo<\/td>\n",
              "    <\/tr>\n",
              "    <tr>\n",
              "      <th>4696<\/th>\n",
              "      <td>Essential Resources<\/td>\n",
              "      <td>LIBRARIES_AND_DEMO<\/td>\n",
              "      <td>4.60<\/td>\n",
              "      <td>237<\/td>\n",
              "      <td>0.01<\/td>\n",
              "      <td>50,000<\/td>\n",
              "      <td>Free<\/td>\n",
              "      <td>0<\/td>\n",
              "      <td>Everyone<\/td>\n",
              "      <td>Libraries &amp; Demo<\/td>\n",
              "    <\/tr>\n",
              "  <\/tbody>\n",
              "<\/table>\n",
              "<p>8197 rows × 10 columns<\/p>\n",
              "<\/div>"
            ]
          },
          "metadata":{
            
          },
          "output_type":"display_data"
        }
      ],
      "metadata":{
        
      }
    },
    {
      "cell_type":"markdown",
      "source":[
        "# Find the 5 App with Most Reviews\n",
        "\n",
        "**Challenge**: Which apps have the highest number of reviews? Are there any paid apps among the top 50?"
      ],
      "attachments":{
        
      },
      "metadata":{
        
      }
    },
    {
      "cell_type":"code",
      "source":[
        "df_apps_clean.sort_values(by='Reviews', ascending=False)"
      ],
      "execution_count":35,
      "outputs":[
        {
          "data":{
            "text\/html":[
              "<div>\n",
              "<style scoped>\n",
              "    .dataframe tbody tr th:only-of-type {\n",
              "        vertical-align: middle;\n",
              "    }\n",
              "\n",
              "    .dataframe tbody tr th {\n",
              "        vertical-align: top;\n",
              "    }\n",
              "\n",
              "    .dataframe thead th {\n",
              "        text-align: right;\n",
              "    }\n",
              "<\/style>\n",
              "<table border=\"1\" class=\"dataframe\">\n",
              "  <thead>\n",
              "    <tr style=\"text-align: right;\">\n",
              "      <th><\/th>\n",
              "      <th>App<\/th>\n",
              "      <th>Category<\/th>\n",
              "      <th>Rating<\/th>\n",
              "      <th>Reviews<\/th>\n",
              "      <th>Size_MBs<\/th>\n",
              "      <th>Installs<\/th>\n",
              "      <th>Type<\/th>\n",
              "      <th>Price<\/th>\n",
              "      <th>Content_Rating<\/th>\n",
              "      <th>Genres<\/th>\n",
              "    <\/tr>\n",
              "  <\/thead>\n",
              "  <tbody>\n",
              "    <tr>\n",
              "      <th>10805<\/th>\n",
              "      <td>Facebook<\/td>\n",
              "      <td>SOCIAL<\/td>\n",
              "      <td>4.10<\/td>\n",
              "      <td>78158306<\/td>\n",
              "      <td>5.30<\/td>\n",
              "      <td>1,000,000,000<\/td>\n",
              "      <td>Free<\/td>\n",
              "      <td>0<\/td>\n",
              "      <td>Teen<\/td>\n",
              "      <td>Social<\/td>\n",
              "    <\/tr>\n",
              "    <tr>\n",
              "      <th>10785<\/th>\n",
              "      <td>WhatsApp Messenger<\/td>\n",
              "      <td>COMMUNICATION<\/td>\n",
              "      <td>4.40<\/td>\n",
              "      <td>69119316<\/td>\n",
              "      <td>3.50<\/td>\n",
              "      <td>1,000,000,000<\/td>\n",
              "      <td>Free<\/td>\n",
              "      <td>0<\/td>\n",
              "      <td>Everyone<\/td>\n",
              "      <td>Communication<\/td>\n",
              "    <\/tr>\n",
              "    <tr>\n",
              "      <th>10806<\/th>\n",
              "      <td>Instagram<\/td>\n",
              "      <td>SOCIAL<\/td>\n",
              "      <td>4.50<\/td>\n",
              "      <td>66577313<\/td>\n",
              "      <td>5.30<\/td>\n",
              "      <td>1,000,000,000<\/td>\n",
              "      <td>Free<\/td>\n",
              "      <td>0<\/td>\n",
              "      <td>Teen<\/td>\n",
              "      <td>Social<\/td>\n",
              "    <\/tr>\n",
              "    <tr>\n",
              "      <th>10784<\/th>\n",
              "      <td>Messenger – Text and Video Chat for Free<\/td>\n",
              "      <td>COMMUNICATION<\/td>\n",
              "      <td>4.00<\/td>\n",
              "      <td>56642847<\/td>\n",
              "      <td>3.50<\/td>\n",
              "      <td>1,000,000,000<\/td>\n",
              "      <td>Free<\/td>\n",
              "      <td>0<\/td>\n",
              "      <td>Everyone<\/td>\n",
              "      <td>Communication<\/td>\n",
              "    <\/tr>\n",
              "    <tr>\n",
              "      <th>10650<\/th>\n",
              "      <td>Clash of Clans<\/td>\n",
              "      <td>GAME<\/td>\n",
              "      <td>4.60<\/td>\n",
              "      <td>44891723<\/td>\n",
              "      <td>98.00<\/td>\n",
              "      <td>100,000,000<\/td>\n",
              "      <td>Free<\/td>\n",
              "      <td>0<\/td>\n",
              "      <td>Everyone 10+<\/td>\n",
              "      <td>Strategy<\/td>\n",
              "    <\/tr>\n",
              "    <tr>\n",
              "      <th>...<\/th>\n",
              "      <td>...<\/td>\n",
              "      <td>...<\/td>\n",
              "      <td>...<\/td>\n",
              "      <td>...<\/td>\n",
              "      <td>...<\/td>\n",
              "      <td>...<\/td>\n",
              "      <td>...<\/td>\n",
              "      <td>...<\/td>\n",
              "      <td>...<\/td>\n",
              "      <td>...<\/td>\n",
              "    <\/tr>\n",
              "    <tr>\n",
              "      <th>453<\/th>\n",
              "      <td>Wowkwis aq Ka'qaquj<\/td>\n",
              "      <td>FAMILY<\/td>\n",
              "      <td>5.00<\/td>\n",
              "      <td>1<\/td>\n",
              "      <td>49.00<\/td>\n",
              "      <td>10<\/td>\n",
              "      <td>Free<\/td>\n",
              "      <td>0<\/td>\n",
              "      <td>Everyone<\/td>\n",
              "      <td>Education;Education<\/td>\n",
              "    <\/tr>\n",
              "    <tr>\n",
              "      <th>462<\/th>\n",
              "      <td>CB Fit<\/td>\n",
              "      <td>HEALTH_AND_FITNESS<\/td>\n",
              "      <td>5.00<\/td>\n",
              "      <td>1<\/td>\n",
              "      <td>7.80<\/td>\n",
              "      <td>10<\/td>\n",
              "      <td>Free<\/td>\n",
              "      <td>0<\/td>\n",
              "      <td>Everyone<\/td>\n",
              "      <td>Health &amp; Fitness<\/td>\n",
              "    <\/tr>\n",
              "    <tr>\n",
              "      <th>1416<\/th>\n",
              "      <td>Ek Kahani Aisi Bhi Season 3 - The Horror Story<\/td>\n",
              "      <td>FAMILY<\/td>\n",
              "      <td>3.00<\/td>\n",
              "      <td>1<\/td>\n",
              "      <td>5.80<\/td>\n",
              "      <td>100<\/td>\n",
              "      <td>Free<\/td>\n",
              "      <td>0<\/td>\n",
              "      <td>Teen<\/td>\n",
              "      <td>Entertainment<\/td>\n",
              "    <\/tr>\n",
              "    <tr>\n",
              "      <th>485<\/th>\n",
              "      <td>Familyfirst Messenger<\/td>\n",
              "      <td>MEDICAL<\/td>\n",
              "      <td>4.00<\/td>\n",
              "      <td>1<\/td>\n",
              "      <td>3.30<\/td>\n",
              "      <td>10<\/td>\n",
              "      <td>Free<\/td>\n",
              "      <td>0<\/td>\n",
              "      <td>Everyone<\/td>\n",
              "      <td>Medical<\/td>\n",
              "    <\/tr>\n",
              "    <tr>\n",
              "      <th>1100<\/th>\n",
              "      <td>Chenoweth AH<\/td>\n",
              "      <td>MEDICAL<\/td>\n",
              "      <td>5.00<\/td>\n",
              "      <td>1<\/td>\n",
              "      <td>27.00<\/td>\n",
              "      <td>100<\/td>\n",
              "      <td>Free<\/td>\n",
              "      <td>0<\/td>\n",
              "      <td>Everyone<\/td>\n",
              "      <td>Medical<\/td>\n",
              "    <\/tr>\n",
              "  <\/tbody>\n",
              "<\/table>\n",
              "<p>8197 rows × 10 columns<\/p>\n",
              "<\/div>"
            ]
          },
          "metadata":{
            
          },
          "output_type":"display_data"
        }
      ],
      "metadata":{
        
      }
    },
    {
      "cell_type":"markdown",
      "source":[
        "# Plotly Pie and Donut Charts - Visualise Categorical Data: Content Ratings"
      ],
      "attachments":{
        
      },
      "metadata":{
        
      }
    },
    {
      "cell_type":"code",
      "source":[
        "ratings = df_apps_clean.Content_Rating.value_counts()\n",
        "ratings"
      ],
      "execution_count":36,
      "outputs":[
        {
          "data":{
            "text\/html":[
              
            ]
          },
          "metadata":{
            
          },
          "output_type":"display_data"
        }
      ],
      "metadata":{
        
      }
    },
    {
      "cell_type":"code",
      "source":[
        "fig = px.pie(labels=ratings.index, values=ratings.values)\n",
        "\n",
        "fig.show()"
      ],
      "execution_count":37,
      "outputs":[
        {
          "data":{
            "text\/plain":[
              "Unsupported"
            ]
          },
          "metadata":{
            
          },
          "output_type":"display_data"
        }
      ],
      "metadata":{
        
      }
    },
    {
      "cell_type":"code",
      "source":[
        "fig = px.pie(labels=ratings.index,\n",
        "             values=ratings.values,\n",
        "             title=\"Content Rating\",\n",
        "             names=ratings.index)\n",
        "\n",
        "fig.update_traces(textposition='outside', textinfo='percent+label')\n",
        "\n",
        "fig.show()"
      ],
      "execution_count":39,
      "outputs":[
        {
          "data":{
            "text\/plain":[
              "Unsupported"
            ]
          },
          "metadata":{
            
          },
          "output_type":"display_data"
        }
      ],
      "metadata":{
        
      }
    },
    {
      "cell_type":"code",
      "source":[
        "fig = px.pie(labels=ratings.index,\n",
        "             values=ratings.values,\n",
        "             title=\"Content Rating\",\n",
        "             names=ratings.index,\n",
        "             hole=0.5)\n",
        "\n",
        "fig.update_traces(textposition='outside', textinfo='percent+label')\n",
        "\n",
        "fig.show()"
      ],
      "execution_count":40,
      "outputs":[
        {
          "data":{
            "text\/plain":[
              "Unsupported"
            ]
          },
          "metadata":{
            
          },
          "output_type":"display_data"
        }
      ],
      "metadata":{
        
      }
    },
    {
      "cell_type":"markdown",
      "source":[
        "# Numeric Type Conversion: Examine the Number of Installs\n",
        "\n",
        "**Challenge**: How many apps had over 1 billion (that's right - BILLION) installations? How many apps just had a single install? \n",
        "\n",
        "Check the datatype of the Installs column.\n",
        "\n",
        "Count the number of apps at each level of installations. \n",
        "\n",
        "Convert the number of installations (the Installs column) to a numeric data type. Hint: this is a 2-step process. You'll have make sure you remove non-numeric characters first. "
      ],
      "attachments":{
        
      },
      "metadata":{
        
      }
    },
    {
      "cell_type":"code",
      "source":[
        "df_apps_clean.dtypes"
      ],
      "execution_count":41,
      "outputs":[
        {
          "data":{
            "text\/html":[
              
            ]
          },
          "metadata":{
            
          },
          "output_type":"display_data"
        }
      ],
      "metadata":{
        
      }
    },
    {
      "cell_type":"code",
      "source":[
        "df_apps_clean.info()"
      ],
      "execution_count":42,
      "outputs":[
        {
          "name":"stdout",
          "text":[
            "<class 'pandas.core.frame.DataFrame'>\n",
            "Int64Index: 8197 entries, 21 to 10835\n",
            "Data columns (total 10 columns):\n",
            " #   Column          Non-Null Count  Dtype  \n",
            "---  ------          --------------  -----  \n",
            " 0   App             8197 non-null   object \n",
            " 1   Category        8197 non-null   object \n",
            " 2   Rating          8197 non-null   float64\n",
            " 3   Reviews         8197 non-null   int64  \n",
            " 4   Size_MBs        8197 non-null   float64\n",
            " 5   Installs        8197 non-null   object \n",
            " 6   Type            8197 non-null   object \n",
            " 7   Price           8197 non-null   object \n",
            " 8   Content_Rating  8197 non-null   object \n",
            " 9   Genres          8197 non-null   object \n",
            "dtypes: float64(2), int64(1), object(7)\n",
            "memory usage: 704.4+ KB\n"
          ],
          "output_type":"stream"
        }
      ],
      "metadata":{
        
      }
    },
    {
      "cell_type":"code",
      "source":[
        "df_apps_clean.Installs.describe()"
      ],
      "execution_count":43,
      "outputs":[
        {
          "data":{
            "text\/html":[
              
            ]
          },
          "metadata":{
            
          },
          "output_type":"display_data"
        }
      ],
      "metadata":{
        
      }
    },
    {
      "cell_type":"code",
      "source":[
        "installs = df_apps_clean.Installs.value_counts()\n",
        "installs"
      ],
      "execution_count":44,
      "outputs":[
        {
          "data":{
            "text\/html":[
              
            ]
          },
          "metadata":{
            
          },
          "output_type":"display_data"
        }
      ],
      "metadata":{
        
      }
    },
    {
      "cell_type":"code",
      "source":[
        "df_apps_clean.Installs = df_apps_clean.Installs.astype(str).str.replace(',','')\n",
        "df_apps_clean.Installs = pd.to_numeric(df_apps_clean.Installs)"
      ],
      "execution_count":45,
      "outputs":[
        
      ],
      "metadata":{
        
      }
    },
    {
      "cell_type":"code",
      "source":[
        "df_apps_clean[['App','Installs']].groupby('Installs').count()"
      ],
      "execution_count":46,
      "outputs":[
        {
          "data":{
            "text\/html":[
              "<div>\n",
              "<style scoped>\n",
              "    .dataframe tbody tr th:only-of-type {\n",
              "        vertical-align: middle;\n",
              "    }\n",
              "\n",
              "    .dataframe tbody tr th {\n",
              "        vertical-align: top;\n",
              "    }\n",
              "\n",
              "    .dataframe thead th {\n",
              "        text-align: right;\n",
              "    }\n",
              "<\/style>\n",
              "<table border=\"1\" class=\"dataframe\">\n",
              "  <thead>\n",
              "    <tr style=\"text-align: right;\">\n",
              "      <th><\/th>\n",
              "      <th>App<\/th>\n",
              "    <\/tr>\n",
              "    <tr>\n",
              "      <th>Installs<\/th>\n",
              "      <th><\/th>\n",
              "    <\/tr>\n",
              "  <\/thead>\n",
              "  <tbody>\n",
              "    <tr>\n",
              "      <th>1<\/th>\n",
              "      <td>3<\/td>\n",
              "    <\/tr>\n",
              "    <tr>\n",
              "      <th>5<\/th>\n",
              "      <td>9<\/td>\n",
              "    <\/tr>\n",
              "    <tr>\n",
              "      <th>10<\/th>\n",
              "      <td>69<\/td>\n",
              "    <\/tr>\n",
              "    <tr>\n",
              "      <th>50<\/th>\n",
              "      <td>56<\/td>\n",
              "    <\/tr>\n",
              "    <tr>\n",
              "      <th>100<\/th>\n",
              "      <td>303<\/td>\n",
              "    <\/tr>\n",
              "    <tr>\n",
              "      <th>500<\/th>\n",
              "      <td>199<\/td>\n",
              "    <\/tr>\n",
              "    <tr>\n",
              "      <th>1000<\/th>\n",
              "      <td>698<\/td>\n",
              "    <\/tr>\n",
              "    <tr>\n",
              "      <th>5000<\/th>\n",
              "      <td>425<\/td>\n",
              "    <\/tr>\n",
              "    <tr>\n",
              "      <th>10000<\/th>\n",
              "      <td>988<\/td>\n",
              "    <\/tr>\n",
              "    <tr>\n",
              "      <th>50000<\/th>\n",
              "      <td>457<\/td>\n",
              "    <\/tr>\n",
              "    <tr>\n",
              "      <th>100000<\/th>\n",
              "      <td>1095<\/td>\n",
              "    <\/tr>\n",
              "    <tr>\n",
              "      <th>500000<\/th>\n",
              "      <td>504<\/td>\n",
              "    <\/tr>\n",
              "    <tr>\n",
              "      <th>1000000<\/th>\n",
              "      <td>1417<\/td>\n",
              "    <\/tr>\n",
              "    <tr>\n",
              "      <th>5000000<\/th>\n",
              "      <td>607<\/td>\n",
              "    <\/tr>\n",
              "    <tr>\n",
              "      <th>10000000<\/th>\n",
              "      <td>933<\/td>\n",
              "    <\/tr>\n",
              "    <tr>\n",
              "      <th>50000000<\/th>\n",
              "      <td>202<\/td>\n",
              "    <\/tr>\n",
              "    <tr>\n",
              "      <th>100000000<\/th>\n",
              "      <td>188<\/td>\n",
              "    <\/tr>\n",
              "    <tr>\n",
              "      <th>500000000<\/th>\n",
              "      <td>24<\/td>\n",
              "    <\/tr>\n",
              "    <tr>\n",
              "      <th>1000000000<\/th>\n",
              "      <td>20<\/td>\n",
              "    <\/tr>\n",
              "  <\/tbody>\n",
              "<\/table>\n",
              "<\/div>"
            ]
          },
          "metadata":{
            
          },
          "output_type":"display_data"
        }
      ],
      "metadata":{
        
      }
    },
    {
      "cell_type":"markdown",
      "source":[
        "# Find the Most Expensive Apps, Filter out the Junk, and Calculate a (ballpark) Sales Revenue Estimate\n",
        "\n",
        "Let's examine the Price column more closely.\n",
        "\n",
        "**Challenge**: Convert the price column to numeric data. Then investigate the top 20 most expensive apps in the dataset.\n",
        "\n",
        "Remove all apps that cost more than $250 from the `df_apps_clean` DataFrame.\n",
        "\n",
        "Add a column called 'Revenue_Estimate' to the DataFrame. This column should hold the price of the app times the number of installs. What are the top 10 highest grossing paid apps according to this estimate? Out of the top 10 highest grossing paid apps, how many are games?"
      ],
      "attachments":{
        
      },
      "metadata":{
        
      }
    },
    {
      "cell_type":"code",
      "source":[
        "df_apps_clean.head()"
      ],
      "execution_count":47,
      "outputs":[
        {
          "data":{
            "text\/html":[
              "<div>\n",
              "<style scoped>\n",
              "    .dataframe tbody tr th:only-of-type {\n",
              "        vertical-align: middle;\n",
              "    }\n",
              "\n",
              "    .dataframe tbody tr th {\n",
              "        vertical-align: top;\n",
              "    }\n",
              "\n",
              "    .dataframe thead th {\n",
              "        text-align: right;\n",
              "    }\n",
              "<\/style>\n",
              "<table border=\"1\" class=\"dataframe\">\n",
              "  <thead>\n",
              "    <tr style=\"text-align: right;\">\n",
              "      <th><\/th>\n",
              "      <th>App<\/th>\n",
              "      <th>Category<\/th>\n",
              "      <th>Rating<\/th>\n",
              "      <th>Reviews<\/th>\n",
              "      <th>Size_MBs<\/th>\n",
              "      <th>Installs<\/th>\n",
              "      <th>Type<\/th>\n",
              "      <th>Price<\/th>\n",
              "      <th>Content_Rating<\/th>\n",
              "      <th>Genres<\/th>\n",
              "    <\/tr>\n",
              "  <\/thead>\n",
              "  <tbody>\n",
              "    <tr>\n",
              "      <th>21<\/th>\n",
              "      <td>KBA-EZ Health Guide<\/td>\n",
              "      <td>MEDICAL<\/td>\n",
              "      <td>5.00<\/td>\n",
              "      <td>4<\/td>\n",
              "      <td>25.00<\/td>\n",
              "      <td>1<\/td>\n",
              "      <td>Free<\/td>\n",
              "      <td>0<\/td>\n",
              "      <td>Everyone<\/td>\n",
              "      <td>Medical<\/td>\n",
              "    <\/tr>\n",
              "    <tr>\n",
              "      <th>28<\/th>\n",
              "      <td>Ra Ga Ba<\/td>\n",
              "      <td>GAME<\/td>\n",
              "      <td>5.00<\/td>\n",
              "      <td>2<\/td>\n",
              "      <td>20.00<\/td>\n",
              "      <td>1<\/td>\n",
              "      <td>Paid<\/td>\n",
              "      <td>$1.49<\/td>\n",
              "      <td>Everyone<\/td>\n",
              "      <td>Arcade<\/td>\n",
              "    <\/tr>\n",
              "    <tr>\n",
              "      <th>47<\/th>\n",
              "      <td>Mu.F.O.<\/td>\n",
              "      <td>GAME<\/td>\n",
              "      <td>5.00<\/td>\n",
              "      <td>2<\/td>\n",
              "      <td>16.00<\/td>\n",
              "      <td>1<\/td>\n",
              "      <td>Paid<\/td>\n",
              "      <td>$0.99<\/td>\n",
              "      <td>Everyone<\/td>\n",
              "      <td>Arcade<\/td>\n",
              "    <\/tr>\n",
              "    <tr>\n",
              "      <th>82<\/th>\n",
              "      <td>Brick Breaker BR<\/td>\n",
              "      <td>GAME<\/td>\n",
              "      <td>5.00<\/td>\n",
              "      <td>7<\/td>\n",
              "      <td>19.00<\/td>\n",
              "      <td>5<\/td>\n",
              "      <td>Free<\/td>\n",
              "      <td>0<\/td>\n",
              "      <td>Everyone<\/td>\n",
              "      <td>Arcade<\/td>\n",
              "    <\/tr>\n",
              "    <tr>\n",
              "      <th>99<\/th>\n",
              "      <td>Anatomy &amp; Physiology Vocabulary Exam Review App<\/td>\n",
              "      <td>MEDICAL<\/td>\n",
              "      <td>5.00<\/td>\n",
              "      <td>1<\/td>\n",
              "      <td>4.60<\/td>\n",
              "      <td>5<\/td>\n",
              "      <td>Free<\/td>\n",
              "      <td>0<\/td>\n",
              "      <td>Everyone<\/td>\n",
              "      <td>Medical<\/td>\n",
              "    <\/tr>\n",
              "  <\/tbody>\n",
              "<\/table>\n",
              "<\/div>"
            ]
          },
          "metadata":{
            
          },
          "output_type":"display_data"
        }
      ],
      "metadata":{
        
      }
    },
    {
      "cell_type":"code",
      "source":[
        "df_apps_clean.Price = df_apps_clean.Price.astype(str).str.replace('$','', regex=False)\n",
        "df_apps_clean.Price = pd.to_numeric(df_apps_clean.Price)\n",
        "df_apps_clean"
      ],
      "execution_count":48,
      "outputs":[
        {
          "data":{
            "text\/html":[
              "<div>\n",
              "<style scoped>\n",
              "    .dataframe tbody tr th:only-of-type {\n",
              "        vertical-align: middle;\n",
              "    }\n",
              "\n",
              "    .dataframe tbody tr th {\n",
              "        vertical-align: top;\n",
              "    }\n",
              "\n",
              "    .dataframe thead th {\n",
              "        text-align: right;\n",
              "    }\n",
              "<\/style>\n",
              "<table border=\"1\" class=\"dataframe\">\n",
              "  <thead>\n",
              "    <tr style=\"text-align: right;\">\n",
              "      <th><\/th>\n",
              "      <th>App<\/th>\n",
              "      <th>Category<\/th>\n",
              "      <th>Rating<\/th>\n",
              "      <th>Reviews<\/th>\n",
              "      <th>Size_MBs<\/th>\n",
              "      <th>Installs<\/th>\n",
              "      <th>Type<\/th>\n",
              "      <th>Price<\/th>\n",
              "      <th>Content_Rating<\/th>\n",
              "      <th>Genres<\/th>\n",
              "    <\/tr>\n",
              "  <\/thead>\n",
              "  <tbody>\n",
              "    <tr>\n",
              "      <th>21<\/th>\n",
              "      <td>KBA-EZ Health Guide<\/td>\n",
              "      <td>MEDICAL<\/td>\n",
              "      <td>5.00<\/td>\n",
              "      <td>4<\/td>\n",
              "      <td>25.00<\/td>\n",
              "      <td>1<\/td>\n",
              "      <td>Free<\/td>\n",
              "      <td>0.00<\/td>\n",
              "      <td>Everyone<\/td>\n",
              "      <td>Medical<\/td>\n",
              "    <\/tr>\n",
              "    <tr>\n",
              "      <th>28<\/th>\n",
              "      <td>Ra Ga Ba<\/td>\n",
              "      <td>GAME<\/td>\n",
              "      <td>5.00<\/td>\n",
              "      <td>2<\/td>\n",
              "      <td>20.00<\/td>\n",
              "      <td>1<\/td>\n",
              "      <td>Paid<\/td>\n",
              "      <td>1.49<\/td>\n",
              "      <td>Everyone<\/td>\n",
              "      <td>Arcade<\/td>\n",
              "    <\/tr>\n",
              "    <tr>\n",
              "      <th>47<\/th>\n",
              "      <td>Mu.F.O.<\/td>\n",
              "      <td>GAME<\/td>\n",
              "      <td>5.00<\/td>\n",
              "      <td>2<\/td>\n",
              "      <td>16.00<\/td>\n",
              "      <td>1<\/td>\n",
              "      <td>Paid<\/td>\n",
              "      <td>0.99<\/td>\n",
              "      <td>Everyone<\/td>\n",
              "      <td>Arcade<\/td>\n",
              "    <\/tr>\n",
              "    <tr>\n",
              "      <th>82<\/th>\n",
              "      <td>Brick Breaker BR<\/td>\n",
              "      <td>GAME<\/td>\n",
              "      <td>5.00<\/td>\n",
              "      <td>7<\/td>\n",
              "      <td>19.00<\/td>\n",
              "      <td>5<\/td>\n",
              "      <td>Free<\/td>\n",
              "      <td>0.00<\/td>\n",
              "      <td>Everyone<\/td>\n",
              "      <td>Arcade<\/td>\n",
              "    <\/tr>\n",
              "    <tr>\n",
              "      <th>99<\/th>\n",
              "      <td>Anatomy &amp; Physiology Vocabulary Exam Review App<\/td>\n",
              "      <td>MEDICAL<\/td>\n",
              "      <td>5.00<\/td>\n",
              "      <td>1<\/td>\n",
              "      <td>4.60<\/td>\n",
              "      <td>5<\/td>\n",
              "      <td>Free<\/td>\n",
              "      <td>0.00<\/td>\n",
              "      <td>Everyone<\/td>\n",
              "      <td>Medical<\/td>\n",
              "    <\/tr>\n",
              "    <tr>\n",
              "      <th>...<\/th>\n",
              "      <td>...<\/td>\n",
              "      <td>...<\/td>\n",
              "      <td>...<\/td>\n",
              "      <td>...<\/td>\n",
              "      <td>...<\/td>\n",
              "      <td>...<\/td>\n",
              "      <td>...<\/td>\n",
              "      <td>...<\/td>\n",
              "      <td>...<\/td>\n",
              "      <td>...<\/td>\n",
              "    <\/tr>\n",
              "    <tr>\n",
              "      <th>10824<\/th>\n",
              "      <td>Google Drive<\/td>\n",
              "      <td>PRODUCTIVITY<\/td>\n",
              "      <td>4.40<\/td>\n",
              "      <td>2731171<\/td>\n",
              "      <td>4.00<\/td>\n",
              "      <td>1000000000<\/td>\n",
              "      <td>Free<\/td>\n",
              "      <td>0.00<\/td>\n",
              "      <td>Everyone<\/td>\n",
              "      <td>Productivity<\/td>\n",
              "    <\/tr>\n",
              "    <tr>\n",
              "      <th>10828<\/th>\n",
              "      <td>YouTube<\/td>\n",
              "      <td>VIDEO_PLAYERS<\/td>\n",
              "      <td>4.30<\/td>\n",
              "      <td>25655305<\/td>\n",
              "      <td>4.65<\/td>\n",
              "      <td>1000000000<\/td>\n",
              "      <td>Free<\/td>\n",
              "      <td>0.00<\/td>\n",
              "      <td>Teen<\/td>\n",
              "      <td>Video Players &amp; Editors<\/td>\n",
              "    <\/tr>\n",
              "    <tr>\n",
              "      <th>10829<\/th>\n",
              "      <td>Google Play Movies &amp; TV<\/td>\n",
              "      <td>VIDEO_PLAYERS<\/td>\n",
              "      <td>3.70<\/td>\n",
              "      <td>906384<\/td>\n",
              "      <td>4.65<\/td>\n",
              "      <td>1000000000<\/td>\n",
              "      <td>Free<\/td>\n",
              "      <td>0.00<\/td>\n",
              "      <td>Teen<\/td>\n",
              "      <td>Video Players &amp; Editors<\/td>\n",
              "    <\/tr>\n",
              "    <tr>\n",
              "      <th>10831<\/th>\n",
              "      <td>Google News<\/td>\n",
              "      <td>NEWS_AND_MAGAZINES<\/td>\n",
              "      <td>3.90<\/td>\n",
              "      <td>877635<\/td>\n",
              "      <td>13.00<\/td>\n",
              "      <td>1000000000<\/td>\n",
              "      <td>Free<\/td>\n",
              "      <td>0.00<\/td>\n",
              "      <td>Teen<\/td>\n",
              "      <td>News &amp; Magazines<\/td>\n",
              "    <\/tr>\n",
              "    <tr>\n",
              "      <th>10835<\/th>\n",
              "      <td>Subway Surfers<\/td>\n",
              "      <td>GAME<\/td>\n",
              "      <td>4.50<\/td>\n",
              "      <td>27722264<\/td>\n",
              "      <td>76.00<\/td>\n",
              "      <td>1000000000<\/td>\n",
              "      <td>Free<\/td>\n",
              "      <td>0.00<\/td>\n",
              "      <td>Everyone 10+<\/td>\n",
              "      <td>Arcade<\/td>\n",
              "    <\/tr>\n",
              "  <\/tbody>\n",
              "<\/table>\n",
              "<p>8197 rows × 10 columns<\/p>\n",
              "<\/div>"
            ]
          },
          "metadata":{
            
          },
          "output_type":"display_data"
        }
      ],
      "metadata":{
        
      }
    },
    {
      "cell_type":"markdown",
      "source":[
        "### The most expensive apps sub $250"
      ],
      "attachments":{
        
      },
      "metadata":{
        
      }
    },
    {
      "cell_type":"code",
      "source":[
        "df_apps_clean.sort_values('Price', ascending=False).head(20)"
      ],
      "execution_count":49,
      "outputs":[
        {
          "data":{
            "text\/html":[
              "<div>\n",
              "<style scoped>\n",
              "    .dataframe tbody tr th:only-of-type {\n",
              "        vertical-align: middle;\n",
              "    }\n",
              "\n",
              "    .dataframe tbody tr th {\n",
              "        vertical-align: top;\n",
              "    }\n",
              "\n",
              "    .dataframe thead th {\n",
              "        text-align: right;\n",
              "    }\n",
              "<\/style>\n",
              "<table border=\"1\" class=\"dataframe\">\n",
              "  <thead>\n",
              "    <tr style=\"text-align: right;\">\n",
              "      <th><\/th>\n",
              "      <th>App<\/th>\n",
              "      <th>Category<\/th>\n",
              "      <th>Rating<\/th>\n",
              "      <th>Reviews<\/th>\n",
              "      <th>Size_MBs<\/th>\n",
              "      <th>Installs<\/th>\n",
              "      <th>Type<\/th>\n",
              "      <th>Price<\/th>\n",
              "      <th>Content_Rating<\/th>\n",
              "      <th>Genres<\/th>\n",
              "    <\/tr>\n",
              "  <\/thead>\n",
              "  <tbody>\n",
              "    <tr>\n",
              "      <th>3946<\/th>\n",
              "      <td>I'm Rich - Trump Edition<\/td>\n",
              "      <td>LIFESTYLE<\/td>\n",
              "      <td>3.60<\/td>\n",
              "      <td>275<\/td>\n",
              "      <td>7.30<\/td>\n",
              "      <td>10000<\/td>\n",
              "      <td>Paid<\/td>\n",
              "      <td>400.00<\/td>\n",
              "      <td>Everyone<\/td>\n",
              "      <td>Lifestyle<\/td>\n",
              "    <\/tr>\n",
              "    <tr>\n",
              "      <th>2461<\/th>\n",
              "      <td>I AM RICH PRO PLUS<\/td>\n",
              "      <td>FINANCE<\/td>\n",
              "      <td>4.00<\/td>\n",
              "      <td>36<\/td>\n",
              "      <td>41.00<\/td>\n",
              "      <td>1000<\/td>\n",
              "      <td>Paid<\/td>\n",
              "      <td>399.99<\/td>\n",
              "      <td>Everyone<\/td>\n",
              "      <td>Finance<\/td>\n",
              "    <\/tr>\n",
              "    <tr>\n",
              "      <th>1331<\/th>\n",
              "      <td>most expensive app (H)<\/td>\n",
              "      <td>FAMILY<\/td>\n",
              "      <td>4.30<\/td>\n",
              "      <td>6<\/td>\n",
              "      <td>1.50<\/td>\n",
              "      <td>100<\/td>\n",
              "      <td>Paid<\/td>\n",
              "      <td>399.99<\/td>\n",
              "      <td>Everyone<\/td>\n",
              "      <td>Entertainment<\/td>\n",
              "    <\/tr>\n",
              "    <tr>\n",
              "      <th>5765<\/th>\n",
              "      <td>I am rich<\/td>\n",
              "      <td>LIFESTYLE<\/td>\n",
              "      <td>3.80<\/td>\n",
              "      <td>3547<\/td>\n",
              "      <td>1.80<\/td>\n",
              "      <td>100000<\/td>\n",
              "      <td>Paid<\/td>\n",
              "      <td>399.99<\/td>\n",
              "      <td>Everyone<\/td>\n",
              "      <td>Lifestyle<\/td>\n",
              "    <\/tr>\n",
              "    <tr>\n",
              "      <th>1946<\/th>\n",
              "      <td>I am rich (Most expensive app)<\/td>\n",
              "      <td>FINANCE<\/td>\n",
              "      <td>4.10<\/td>\n",
              "      <td>129<\/td>\n",
              "      <td>2.70<\/td>\n",
              "      <td>1000<\/td>\n",
              "      <td>Paid<\/td>\n",
              "      <td>399.99<\/td>\n",
              "      <td>Teen<\/td>\n",
              "      <td>Finance<\/td>\n",
              "    <\/tr>\n",
              "    <tr>\n",
              "      <th>4606<\/th>\n",
              "      <td>I Am Rich Premium<\/td>\n",
              "      <td>FINANCE<\/td>\n",
              "      <td>4.10<\/td>\n",
              "      <td>1867<\/td>\n",
              "      <td>4.70<\/td>\n",
              "      <td>50000<\/td>\n",
              "      <td>Paid<\/td>\n",
              "      <td>399.99<\/td>\n",
              "      <td>Everyone<\/td>\n",
              "      <td>Finance<\/td>\n",
              "    <\/tr>\n",
              "    <tr>\n",
              "      <th>3145<\/th>\n",
              "      <td>I am rich(premium)<\/td>\n",
              "      <td>FINANCE<\/td>\n",
              "      <td>3.50<\/td>\n",
              "      <td>472<\/td>\n",
              "      <td>0.94<\/td>\n",
              "      <td>5000<\/td>\n",
              "      <td>Paid<\/td>\n",
              "      <td>399.99<\/td>\n",
              "      <td>Everyone<\/td>\n",
              "      <td>Finance<\/td>\n",
              "    <\/tr>\n",
              "    <tr>\n",
              "      <th>2394<\/th>\n",
              "      <td>I am Rich!<\/td>\n",
              "      <td>FINANCE<\/td>\n",
              "      <td>3.80<\/td>\n",
              "      <td>93<\/td>\n",
              "      <td>22.00<\/td>\n",
              "      <td>1000<\/td>\n",
              "      <td>Paid<\/td>\n",
              "      <td>399.99<\/td>\n",
              "      <td>Everyone<\/td>\n",
              "      <td>Finance<\/td>\n",
              "    <\/tr>\n",
              "    <tr>\n",
              "      <th>2775<\/th>\n",
              "      <td>I Am Rich Pro<\/td>\n",
              "      <td>FAMILY<\/td>\n",
              "      <td>4.40<\/td>\n",
              "      <td>201<\/td>\n",
              "      <td>2.70<\/td>\n",
              "      <td>5000<\/td>\n",
              "      <td>Paid<\/td>\n",
              "      <td>399.99<\/td>\n",
              "      <td>Everyone<\/td>\n",
              "      <td>Entertainment<\/td>\n",
              "    <\/tr>\n",
              "    <tr>\n",
              "      <th>3554<\/th>\n",
              "      <td>💎 I'm rich<\/td>\n",
              "      <td>LIFESTYLE<\/td>\n",
              "      <td>3.80<\/td>\n",
              "      <td>718<\/td>\n",
              "      <td>26.00<\/td>\n",
              "      <td>10000<\/td>\n",
              "      <td>Paid<\/td>\n",
              "      <td>399.99<\/td>\n",
              "      <td>Everyone<\/td>\n",
              "      <td>Lifestyle<\/td>\n",
              "    <\/tr>\n",
              "    <tr>\n",
              "      <th>3221<\/th>\n",
              "      <td>I am Rich Plus<\/td>\n",
              "      <td>FAMILY<\/td>\n",
              "      <td>4.00<\/td>\n",
              "      <td>856<\/td>\n",
              "      <td>8.70<\/td>\n",
              "      <td>10000<\/td>\n",
              "      <td>Paid<\/td>\n",
              "      <td>399.99<\/td>\n",
              "      <td>Everyone<\/td>\n",
              "      <td>Entertainment<\/td>\n",
              "    <\/tr>\n",
              "    <tr>\n",
              "      <th>3114<\/th>\n",
              "      <td>I am Rich<\/td>\n",
              "      <td>FINANCE<\/td>\n",
              "      <td>4.30<\/td>\n",
              "      <td>180<\/td>\n",
              "      <td>3.80<\/td>\n",
              "      <td>5000<\/td>\n",
              "      <td>Paid<\/td>\n",
              "      <td>399.99<\/td>\n",
              "      <td>Everyone<\/td>\n",
              "      <td>Finance<\/td>\n",
              "    <\/tr>\n",
              "    <tr>\n",
              "      <th>3897<\/th>\n",
              "      <td>I Am Rich<\/td>\n",
              "      <td>FAMILY<\/td>\n",
              "      <td>3.60<\/td>\n",
              "      <td>217<\/td>\n",
              "      <td>4.90<\/td>\n",
              "      <td>10000<\/td>\n",
              "      <td>Paid<\/td>\n",
              "      <td>389.99<\/td>\n",
              "      <td>Everyone<\/td>\n",
              "      <td>Entertainment<\/td>\n",
              "    <\/tr>\n",
              "    <tr>\n",
              "      <th>2193<\/th>\n",
              "      <td>I am extremely Rich<\/td>\n",
              "      <td>LIFESTYLE<\/td>\n",
              "      <td>2.90<\/td>\n",
              "      <td>41<\/td>\n",
              "      <td>2.90<\/td>\n",
              "      <td>1000<\/td>\n",
              "      <td>Paid<\/td>\n",
              "      <td>379.99<\/td>\n",
              "      <td>Everyone<\/td>\n",
              "      <td>Lifestyle<\/td>\n",
              "    <\/tr>\n",
              "    <tr>\n",
              "      <th>3856<\/th>\n",
              "      <td>I am rich VIP<\/td>\n",
              "      <td>LIFESTYLE<\/td>\n",
              "      <td>3.80<\/td>\n",
              "      <td>411<\/td>\n",
              "      <td>2.60<\/td>\n",
              "      <td>10000<\/td>\n",
              "      <td>Paid<\/td>\n",
              "      <td>299.99<\/td>\n",
              "      <td>Everyone<\/td>\n",
              "      <td>Lifestyle<\/td>\n",
              "    <\/tr>\n",
              "    <tr>\n",
              "      <th>2281<\/th>\n",
              "      <td>Vargo Anesthesia Mega App<\/td>\n",
              "      <td>MEDICAL<\/td>\n",
              "      <td>4.60<\/td>\n",
              "      <td>92<\/td>\n",
              "      <td>32.00<\/td>\n",
              "      <td>1000<\/td>\n",
              "      <td>Paid<\/td>\n",
              "      <td>79.99<\/td>\n",
              "      <td>Everyone<\/td>\n",
              "      <td>Medical<\/td>\n",
              "    <\/tr>\n",
              "    <tr>\n",
              "      <th>1407<\/th>\n",
              "      <td>LTC AS Legal<\/td>\n",
              "      <td>MEDICAL<\/td>\n",
              "      <td>4.00<\/td>\n",
              "      <td>6<\/td>\n",
              "      <td>1.30<\/td>\n",
              "      <td>100<\/td>\n",
              "      <td>Paid<\/td>\n",
              "      <td>39.99<\/td>\n",
              "      <td>Everyone<\/td>\n",
              "      <td>Medical<\/td>\n",
              "    <\/tr>\n",
              "    <tr>\n",
              "      <th>2629<\/th>\n",
              "      <td>I am Rich Person<\/td>\n",
              "      <td>LIFESTYLE<\/td>\n",
              "      <td>4.20<\/td>\n",
              "      <td>134<\/td>\n",
              "      <td>1.80<\/td>\n",
              "      <td>1000<\/td>\n",
              "      <td>Paid<\/td>\n",
              "      <td>37.99<\/td>\n",
              "      <td>Everyone<\/td>\n",
              "      <td>Lifestyle<\/td>\n",
              "    <\/tr>\n",
              "    <tr>\n",
              "      <th>2481<\/th>\n",
              "      <td>A Manual of Acupuncture<\/td>\n",
              "      <td>MEDICAL<\/td>\n",
              "      <td>3.50<\/td>\n",
              "      <td>214<\/td>\n",
              "      <td>68.00<\/td>\n",
              "      <td>1000<\/td>\n",
              "      <td>Paid<\/td>\n",
              "      <td>33.99<\/td>\n",
              "      <td>Everyone<\/td>\n",
              "      <td>Medical<\/td>\n",
              "    <\/tr>\n",
              "    <tr>\n",
              "      <th>2207<\/th>\n",
              "      <td>EMT PASS<\/td>\n",
              "      <td>MEDICAL<\/td>\n",
              "      <td>3.40<\/td>\n",
              "      <td>51<\/td>\n",
              "      <td>2.40<\/td>\n",
              "      <td>1000<\/td>\n",
              "      <td>Paid<\/td>\n",
              "      <td>29.99<\/td>\n",
              "      <td>Everyone<\/td>\n",
              "      <td>Medical<\/td>\n",
              "    <\/tr>\n",
              "  <\/tbody>\n",
              "<\/table>\n",
              "<\/div>"
            ]
          },
          "metadata":{
            
          },
          "output_type":"display_data"
        }
      ],
      "metadata":{
        
      }
    },
    {
      "cell_type":"code",
      "source":[
        "df_apps_clean = df_apps_clean[df_apps_clean.Price < 250]\n",
        "df_apps_clean.sort_values('Price', ascending=False).head(5)"
      ],
      "execution_count":158,
      "outputs":[
        {
          "data":{
            "text\/html":[
              "<div>\n",
              "<style scoped>\n",
              "    .dataframe tbody tr th:only-of-type {\n",
              "        vertical-align: middle;\n",
              "    }\n",
              "\n",
              "    .dataframe tbody tr th {\n",
              "        vertical-align: top;\n",
              "    }\n",
              "\n",
              "    .dataframe thead th {\n",
              "        text-align: right;\n",
              "    }\n",
              "<\/style>\n",
              "<table border=\"1\" class=\"dataframe\">\n",
              "  <thead>\n",
              "    <tr style=\"text-align: right;\">\n",
              "      <th><\/th>\n",
              "      <th>App<\/th>\n",
              "      <th>Category<\/th>\n",
              "      <th>Rating<\/th>\n",
              "      <th>Reviews<\/th>\n",
              "      <th>Size_MBs<\/th>\n",
              "      <th>Installs<\/th>\n",
              "      <th>Type<\/th>\n",
              "      <th>Price<\/th>\n",
              "      <th>Content_Rating<\/th>\n",
              "      <th>Genres<\/th>\n",
              "    <\/tr>\n",
              "  <\/thead>\n",
              "  <tbody>\n",
              "    <tr>\n",
              "      <th>2281<\/th>\n",
              "      <td>Vargo Anesthesia Mega App<\/td>\n",
              "      <td>MEDICAL<\/td>\n",
              "      <td>4.60<\/td>\n",
              "      <td>92<\/td>\n",
              "      <td>32.00<\/td>\n",
              "      <td>1000<\/td>\n",
              "      <td>Paid<\/td>\n",
              "      <td>79.99<\/td>\n",
              "      <td>Everyone<\/td>\n",
              "      <td>Medical<\/td>\n",
              "    <\/tr>\n",
              "    <tr>\n",
              "      <th>1407<\/th>\n",
              "      <td>LTC AS Legal<\/td>\n",
              "      <td>MEDICAL<\/td>\n",
              "      <td>4.00<\/td>\n",
              "      <td>6<\/td>\n",
              "      <td>1.30<\/td>\n",
              "      <td>100<\/td>\n",
              "      <td>Paid<\/td>\n",
              "      <td>39.99<\/td>\n",
              "      <td>Everyone<\/td>\n",
              "      <td>Medical<\/td>\n",
              "    <\/tr>\n",
              "    <tr>\n",
              "      <th>2629<\/th>\n",
              "      <td>I am Rich Person<\/td>\n",
              "      <td>LIFESTYLE<\/td>\n",
              "      <td>4.20<\/td>\n",
              "      <td>134<\/td>\n",
              "      <td>1.80<\/td>\n",
              "      <td>1000<\/td>\n",
              "      <td>Paid<\/td>\n",
              "      <td>37.99<\/td>\n",
              "      <td>Everyone<\/td>\n",
              "      <td>Lifestyle<\/td>\n",
              "    <\/tr>\n",
              "    <tr>\n",
              "      <th>2481<\/th>\n",
              "      <td>A Manual of Acupuncture<\/td>\n",
              "      <td>MEDICAL<\/td>\n",
              "      <td>3.50<\/td>\n",
              "      <td>214<\/td>\n",
              "      <td>68.00<\/td>\n",
              "      <td>1000<\/td>\n",
              "      <td>Paid<\/td>\n",
              "      <td>33.99<\/td>\n",
              "      <td>Everyone<\/td>\n",
              "      <td>Medical<\/td>\n",
              "    <\/tr>\n",
              "    <tr>\n",
              "      <th>504<\/th>\n",
              "      <td>AP Art History Flashcards<\/td>\n",
              "      <td>FAMILY<\/td>\n",
              "      <td>5.00<\/td>\n",
              "      <td>1<\/td>\n",
              "      <td>96.00<\/td>\n",
              "      <td>10<\/td>\n",
              "      <td>Paid<\/td>\n",
              "      <td>29.99<\/td>\n",
              "      <td>Mature 17+<\/td>\n",
              "      <td>Education<\/td>\n",
              "    <\/tr>\n",
              "  <\/tbody>\n",
              "<\/table>\n",
              "<\/div>"
            ]
          },
          "metadata":{
            
          },
          "output_type":"display_data"
        }
      ],
      "metadata":{
        
      }
    },
    {
      "cell_type":"markdown",
      "source":[
        "### Highest Grossing Paid Apps (ballpark estimate)"
      ],
      "attachments":{
        
      },
      "metadata":{
        
      }
    },
    {
      "cell_type":"code",
      "source":[
        "df_apps_clean['Revenue_Estimate'] = df_apps_clean.Installs.multiply(df_apps_clean.Price)\n",
        "df_apps_clean.sort_values('Revenue_Estimate', ascending=False)[:10]"
      ],
      "execution_count":51,
      "outputs":[
        {
          "data":{
            "text\/html":[
              "<div>\n",
              "<style scoped>\n",
              "    .dataframe tbody tr th:only-of-type {\n",
              "        vertical-align: middle;\n",
              "    }\n",
              "\n",
              "    .dataframe tbody tr th {\n",
              "        vertical-align: top;\n",
              "    }\n",
              "\n",
              "    .dataframe thead th {\n",
              "        text-align: right;\n",
              "    }\n",
              "<\/style>\n",
              "<table border=\"1\" class=\"dataframe\">\n",
              "  <thead>\n",
              "    <tr style=\"text-align: right;\">\n",
              "      <th><\/th>\n",
              "      <th>App<\/th>\n",
              "      <th>Category<\/th>\n",
              "      <th>Rating<\/th>\n",
              "      <th>Reviews<\/th>\n",
              "      <th>Size_MBs<\/th>\n",
              "      <th>Installs<\/th>\n",
              "      <th>Type<\/th>\n",
              "      <th>Price<\/th>\n",
              "      <th>Content_Rating<\/th>\n",
              "      <th>Genres<\/th>\n",
              "      <th>Revenue_Estimate<\/th>\n",
              "    <\/tr>\n",
              "  <\/thead>\n",
              "  <tbody>\n",
              "    <tr>\n",
              "      <th>9220<\/th>\n",
              "      <td>Minecraft<\/td>\n",
              "      <td>FAMILY<\/td>\n",
              "      <td>4.50<\/td>\n",
              "      <td>2376564<\/td>\n",
              "      <td>19.00<\/td>\n",
              "      <td>10000000<\/td>\n",
              "      <td>Paid<\/td>\n",
              "      <td>6.99<\/td>\n",
              "      <td>Everyone 10+<\/td>\n",
              "      <td>Arcade;Action &amp; Adventure<\/td>\n",
              "      <td>69,900,000.00<\/td>\n",
              "    <\/tr>\n",
              "    <tr>\n",
              "      <th>5765<\/th>\n",
              "      <td>I am rich<\/td>\n",
              "      <td>LIFESTYLE<\/td>\n",
              "      <td>3.80<\/td>\n",
              "      <td>3547<\/td>\n",
              "      <td>1.80<\/td>\n",
              "      <td>100000<\/td>\n",
              "      <td>Paid<\/td>\n",
              "      <td>399.99<\/td>\n",
              "      <td>Everyone<\/td>\n",
              "      <td>Lifestyle<\/td>\n",
              "      <td>39,999,000.00<\/td>\n",
              "    <\/tr>\n",
              "    <tr>\n",
              "      <th>4606<\/th>\n",
              "      <td>I Am Rich Premium<\/td>\n",
              "      <td>FINANCE<\/td>\n",
              "      <td>4.10<\/td>\n",
              "      <td>1867<\/td>\n",
              "      <td>4.70<\/td>\n",
              "      <td>50000<\/td>\n",
              "      <td>Paid<\/td>\n",
              "      <td>399.99<\/td>\n",
              "      <td>Everyone<\/td>\n",
              "      <td>Finance<\/td>\n",
              "      <td>19,999,500.00<\/td>\n",
              "    <\/tr>\n",
              "    <tr>\n",
              "      <th>8825<\/th>\n",
              "      <td>Hitman Sniper<\/td>\n",
              "      <td>GAME<\/td>\n",
              "      <td>4.60<\/td>\n",
              "      <td>408292<\/td>\n",
              "      <td>29.00<\/td>\n",
              "      <td>10000000<\/td>\n",
              "      <td>Paid<\/td>\n",
              "      <td>0.99<\/td>\n",
              "      <td>Mature 17+<\/td>\n",
              "      <td>Action<\/td>\n",
              "      <td>9,900,000.00<\/td>\n",
              "    <\/tr>\n",
              "    <tr>\n",
              "      <th>7151<\/th>\n",
              "      <td>Grand Theft Auto: San Andreas<\/td>\n",
              "      <td>GAME<\/td>\n",
              "      <td>4.40<\/td>\n",
              "      <td>348962<\/td>\n",
              "      <td>26.00<\/td>\n",
              "      <td>1000000<\/td>\n",
              "      <td>Paid<\/td>\n",
              "      <td>6.99<\/td>\n",
              "      <td>Mature 17+<\/td>\n",
              "      <td>Action<\/td>\n",
              "      <td>6,990,000.00<\/td>\n",
              "    <\/tr>\n",
              "    <tr>\n",
              "      <th>7477<\/th>\n",
              "      <td>Facetune - For Free<\/td>\n",
              "      <td>PHOTOGRAPHY<\/td>\n",
              "      <td>4.40<\/td>\n",
              "      <td>49553<\/td>\n",
              "      <td>48.00<\/td>\n",
              "      <td>1000000<\/td>\n",
              "      <td>Paid<\/td>\n",
              "      <td>5.99<\/td>\n",
              "      <td>Everyone<\/td>\n",
              "      <td>Photography<\/td>\n",
              "      <td>5,990,000.00<\/td>\n",
              "    <\/tr>\n",
              "    <tr>\n",
              "      <th>7977<\/th>\n",
              "      <td>Sleep as Android Unlock<\/td>\n",
              "      <td>LIFESTYLE<\/td>\n",
              "      <td>4.50<\/td>\n",
              "      <td>23966<\/td>\n",
              "      <td>0.85<\/td>\n",
              "      <td>1000000<\/td>\n",
              "      <td>Paid<\/td>\n",
              "      <td>5.99<\/td>\n",
              "      <td>Everyone<\/td>\n",
              "      <td>Lifestyle<\/td>\n",
              "      <td>5,990,000.00<\/td>\n",
              "    <\/tr>\n",
              "    <tr>\n",
              "      <th>6594<\/th>\n",
              "      <td>DraStic DS Emulator<\/td>\n",
              "      <td>GAME<\/td>\n",
              "      <td>4.60<\/td>\n",
              "      <td>87766<\/td>\n",
              "      <td>12.00<\/td>\n",
              "      <td>1000000<\/td>\n",
              "      <td>Paid<\/td>\n",
              "      <td>4.99<\/td>\n",
              "      <td>Everyone<\/td>\n",
              "      <td>Action<\/td>\n",
              "      <td>4,990,000.00<\/td>\n",
              "    <\/tr>\n",
              "    <tr>\n",
              "      <th>3946<\/th>\n",
              "      <td>I'm Rich - Trump Edition<\/td>\n",
              "      <td>LIFESTYLE<\/td>\n",
              "      <td>3.60<\/td>\n",
              "      <td>275<\/td>\n",
              "      <td>7.30<\/td>\n",
              "      <td>10000<\/td>\n",
              "      <td>Paid<\/td>\n",
              "      <td>400.00<\/td>\n",
              "      <td>Everyone<\/td>\n",
              "      <td>Lifestyle<\/td>\n",
              "      <td>4,000,000.00<\/td>\n",
              "    <\/tr>\n",
              "    <tr>\n",
              "      <th>3554<\/th>\n",
              "      <td>💎 I'm rich<\/td>\n",
              "      <td>LIFESTYLE<\/td>\n",
              "      <td>3.80<\/td>\n",
              "      <td>718<\/td>\n",
              "      <td>26.00<\/td>\n",
              "      <td>10000<\/td>\n",
              "      <td>Paid<\/td>\n",
              "      <td>399.99<\/td>\n",
              "      <td>Everyone<\/td>\n",
              "      <td>Lifestyle<\/td>\n",
              "      <td>3,999,900.00<\/td>\n",
              "    <\/tr>\n",
              "  <\/tbody>\n",
              "<\/table>\n",
              "<\/div>"
            ]
          },
          "metadata":{
            
          },
          "output_type":"display_data"
        }
      ],
      "metadata":{
        
      }
    },
    {
      "cell_type":"markdown",
      "source":[
        "# Plotly Bar Charts & Scatter Plots: Analysing App Categories"
      ],
      "attachments":{
        
      },
      "metadata":{
        
      }
    },
    {
      "cell_type":"code",
      "source":[
        "df_apps_clean.Category.nunique()"
      ],
      "execution_count":52,
      "outputs":[
        {
          "data":{
            "text\/plain":[
              "33"
            ]
          },
          "metadata":{
            
          },
          "output_type":"display_data"
        }
      ],
      "metadata":{
        
      }
    },
    {
      "cell_type":"code",
      "source":[
        "top10_category = df_apps_clean.Category.value_counts()[:10]\n",
        "top10_category"
      ],
      "execution_count":53,
      "outputs":[
        {
          "data":{
            "text\/html":[
              
            ]
          },
          "metadata":{
            
          },
          "output_type":"display_data"
        }
      ],
      "metadata":{
        
      }
    },
    {
      "cell_type":"markdown",
      "source":[
        "### Vertical Bar Chart - Highest Competition (Number of Apps)"
      ],
      "attachments":{
        
      },
      "metadata":{
        
      }
    },
    {
      "cell_type":"code",
      "source":[
        "bar = px.bar(x = top10_category.index,\n",
        "             y = top10_category.values)\n",
        "\n",
        "bar.show()"
      ],
      "execution_count":54,
      "outputs":[
        {
          "data":{
            "text\/plain":[
              "Unsupported"
            ]
          },
          "metadata":{
            
          },
          "output_type":"display_data"
        }
      ],
      "metadata":{
        
      }
    },
    {
      "cell_type":"markdown",
      "source":[
        "### Horizontal Bar Chart - Most Popular Categories (Highest Downloads)"
      ],
      "attachments":{
        
      },
      "metadata":{
        
      }
    },
    {
      "cell_type":"code",
      "source":[
        "category_installs = df_apps_clean.groupby('Category').agg({'Installs': pd.Series.sum}) # Category as index amd get only Installs column, .sum() would sum values in other columns as well\n",
        "category_installs.sort_values('Installs', ascending=True, inplace=True)\n",
        "category_installs.head(20)"
      ],
      "execution_count":55,
      "outputs":[
        {
          "data":{
            "text\/html":[
              "<div>\n",
              "<style scoped>\n",
              "    .dataframe tbody tr th:only-of-type {\n",
              "        vertical-align: middle;\n",
              "    }\n",
              "\n",
              "    .dataframe tbody tr th {\n",
              "        vertical-align: top;\n",
              "    }\n",
              "\n",
              "    .dataframe thead th {\n",
              "        text-align: right;\n",
              "    }\n",
              "<\/style>\n",
              "<table border=\"1\" class=\"dataframe\">\n",
              "  <thead>\n",
              "    <tr style=\"text-align: right;\">\n",
              "      <th><\/th>\n",
              "      <th>Installs<\/th>\n",
              "    <\/tr>\n",
              "    <tr>\n",
              "      <th>Category<\/th>\n",
              "      <th><\/th>\n",
              "    <\/tr>\n",
              "  <\/thead>\n",
              "  <tbody>\n",
              "    <tr>\n",
              "      <th>EVENTS<\/th>\n",
              "      <td>15949410<\/td>\n",
              "    <\/tr>\n",
              "    <tr>\n",
              "      <th>BEAUTY<\/th>\n",
              "      <td>26916200<\/td>\n",
              "    <\/tr>\n",
              "    <tr>\n",
              "      <th>PARENTING<\/th>\n",
              "      <td>31116110<\/td>\n",
              "    <\/tr>\n",
              "    <tr>\n",
              "      <th>MEDICAL<\/th>\n",
              "      <td>39062676<\/td>\n",
              "    <\/tr>\n",
              "    <tr>\n",
              "      <th>COMICS<\/th>\n",
              "      <td>44931100<\/td>\n",
              "    <\/tr>\n",
              "    <tr>\n",
              "      <th>LIBRARIES_AND_DEMO<\/th>\n",
              "      <td>52083000<\/td>\n",
              "    <\/tr>\n",
              "    <tr>\n",
              "      <th>AUTO_AND_VEHICLES<\/th>\n",
              "      <td>53129800<\/td>\n",
              "    <\/tr>\n",
              "    <tr>\n",
              "      <th>HOUSE_AND_HOME<\/th>\n",
              "      <td>97082000<\/td>\n",
              "    <\/tr>\n",
              "    <tr>\n",
              "      <th>ART_AND_DESIGN<\/th>\n",
              "      <td>114233100<\/td>\n",
              "    <\/tr>\n",
              "    <tr>\n",
              "      <th>DATING<\/th>\n",
              "      <td>140912410<\/td>\n",
              "    <\/tr>\n",
              "    <tr>\n",
              "      <th>FOOD_AND_DRINK<\/th>\n",
              "      <td>211677750<\/td>\n",
              "    <\/tr>\n",
              "    <tr>\n",
              "      <th>EDUCATION<\/th>\n",
              "      <td>352852000<\/td>\n",
              "    <\/tr>\n",
              "    <tr>\n",
              "      <th>WEATHER<\/th>\n",
              "      <td>361096500<\/td>\n",
              "    <\/tr>\n",
              "    <tr>\n",
              "      <th>FINANCE<\/th>\n",
              "      <td>455312400<\/td>\n",
              "    <\/tr>\n",
              "    <tr>\n",
              "      <th>MAPS_AND_NAVIGATION<\/th>\n",
              "      <td>503267560<\/td>\n",
              "    <\/tr>\n",
              "    <tr>\n",
              "      <th>LIFESTYLE<\/th>\n",
              "      <td>503742120<\/td>\n",
              "    <\/tr>\n",
              "    <tr>\n",
              "      <th>BUSINESS<\/th>\n",
              "      <td>692018120<\/td>\n",
              "    <\/tr>\n",
              "    <tr>\n",
              "      <th>SPORTS<\/th>\n",
              "      <td>1096431465<\/td>\n",
              "    <\/tr>\n",
              "    <tr>\n",
              "      <th>HEALTH_AND_FITNESS<\/th>\n",
              "      <td>1134006220<\/td>\n",
              "    <\/tr>\n",
              "    <tr>\n",
              "      <th>SHOPPING<\/th>\n",
              "      <td>1400331540<\/td>\n",
              "    <\/tr>\n",
              "  <\/tbody>\n",
              "<\/table>\n",
              "<\/div>"
            ]
          },
          "metadata":{
            
          },
          "output_type":"display_data"
        }
      ],
      "metadata":{
        
      }
    },
    {
      "cell_type":"code",
      "source":[
        "h_bar = px.bar(x = category_installs.Installs,\n",
        "               y = category_installs.index,\n",
        "               orientation ='h',\n",
        "               title = 'Category Popularity')\n",
        "\n",
        "h_bar.update_layout(xaxis_title = 'Number of Downloads', yaxis_title='Category')\n",
        "\n",
        "h_bar.show()"
      ],
      "execution_count":56,
      "outputs":[
        {
          "data":{
            "text\/plain":[
              "Unsupported"
            ]
          },
          "metadata":{
            
          },
          "output_type":"display_data"
        }
      ],
      "metadata":{
        
      }
    },
    {
      "cell_type":"markdown",
      "source":[
        "### Category Concentration - Downloads vs. Competition\n",
        "\n",
        "**Challenge**: \n",
        "* First, create a DataFrame that has the number of apps in one column and the number of installs in another:\n",
        "\n",
        "<img src=https:\/\/imgur.com\/uQRSlXi.png width=\"350\">\n",
        "\n",
        "* Then use the [plotly express examples from the documentation](https:\/\/plotly.com\/python\/line-and-scatter\/) alongside the [.scatter() API reference](https:\/\/plotly.com\/python-api-reference\/generated\/plotly.express.scatter.html)to create scatter plot that looks like this. \n",
        "\n",
        "<img src=https:\/\/imgur.com\/cHsqh6a.png>\n",
        "\n",
        "*Hint*: Use the size, hover_name and color parameters in .scatter(). To scale the yaxis, call .update_layout() and specify that the yaxis should be on a log-scale like so: yaxis=dict(type='log') "
      ],
      "attachments":{
        
      },
      "metadata":{
        
      }
    },
    {
      "cell_type":"code",
      "source":[
        "cat_number = df_apps_clean.groupby('Category').agg({'App': pd.Series.count})\n",
        "cat_number.sort_values('App', ascending=False)"
      ],
      "execution_count":57,
      "outputs":[
        {
          "data":{
            "text\/html":[
              "<div>\n",
              "<style scoped>\n",
              "    .dataframe tbody tr th:only-of-type {\n",
              "        vertical-align: middle;\n",
              "    }\n",
              "\n",
              "    .dataframe tbody tr th {\n",
              "        vertical-align: top;\n",
              "    }\n",
              "\n",
              "    .dataframe thead th {\n",
              "        text-align: right;\n",
              "    }\n",
              "<\/style>\n",
              "<table border=\"1\" class=\"dataframe\">\n",
              "  <thead>\n",
              "    <tr style=\"text-align: right;\">\n",
              "      <th><\/th>\n",
              "      <th>App<\/th>\n",
              "    <\/tr>\n",
              "    <tr>\n",
              "      <th>Category<\/th>\n",
              "      <th><\/th>\n",
              "    <\/tr>\n",
              "  <\/thead>\n",
              "  <tbody>\n",
              "    <tr>\n",
              "      <th>FAMILY<\/th>\n",
              "      <td>1610<\/td>\n",
              "    <\/tr>\n",
              "    <tr>\n",
              "      <th>GAME<\/th>\n",
              "      <td>910<\/td>\n",
              "    <\/tr>\n",
              "    <tr>\n",
              "      <th>TOOLS<\/th>\n",
              "      <td>718<\/td>\n",
              "    <\/tr>\n",
              "    <tr>\n",
              "      <th>LIFESTYLE<\/th>\n",
              "      <td>302<\/td>\n",
              "    <\/tr>\n",
              "    <tr>\n",
              "      <th>FINANCE<\/th>\n",
              "      <td>302<\/td>\n",
              "    <\/tr>\n",
              "    <tr>\n",
              "      <th>PRODUCTIVITY<\/th>\n",
              "      <td>301<\/td>\n",
              "    <\/tr>\n",
              "    <tr>\n",
              "      <th>PERSONALIZATION<\/th>\n",
              "      <td>298<\/td>\n",
              "    <\/tr>\n",
              "    <tr>\n",
              "      <th>MEDICAL<\/th>\n",
              "      <td>291<\/td>\n",
              "    <\/tr>\n",
              "    <tr>\n",
              "      <th>PHOTOGRAPHY<\/th>\n",
              "      <td>263<\/td>\n",
              "    <\/tr>\n",
              "    <tr>\n",
              "      <th>BUSINESS<\/th>\n",
              "      <td>262<\/td>\n",
              "    <\/tr>\n",
              "    <tr>\n",
              "      <th>SPORTS<\/th>\n",
              "      <td>260<\/td>\n",
              "    <\/tr>\n",
              "    <tr>\n",
              "      <th>COMMUNICATION<\/th>\n",
              "      <td>257<\/td>\n",
              "    <\/tr>\n",
              "    <tr>\n",
              "      <th>HEALTH_AND_FITNESS<\/th>\n",
              "      <td>243<\/td>\n",
              "    <\/tr>\n",
              "    <tr>\n",
              "      <th>NEWS_AND_MAGAZINES<\/th>\n",
              "      <td>204<\/td>\n",
              "    <\/tr>\n",
              "    <tr>\n",
              "      <th>SOCIAL<\/th>\n",
              "      <td>203<\/td>\n",
              "    <\/tr>\n",
              "    <tr>\n",
              "      <th>TRAVEL_AND_LOCAL<\/th>\n",
              "      <td>187<\/td>\n",
              "    <\/tr>\n",
              "    <tr>\n",
              "      <th>SHOPPING<\/th>\n",
              "      <td>180<\/td>\n",
              "    <\/tr>\n",
              "    <tr>\n",
              "      <th>BOOKS_AND_REFERENCE<\/th>\n",
              "      <td>169<\/td>\n",
              "    <\/tr>\n",
              "    <tr>\n",
              "      <th>VIDEO_PLAYERS<\/th>\n",
              "      <td>148<\/td>\n",
              "    <\/tr>\n",
              "    <tr>\n",
              "      <th>DATING<\/th>\n",
              "      <td>134<\/td>\n",
              "    <\/tr>\n",
              "    <tr>\n",
              "      <th>EDUCATION<\/th>\n",
              "      <td>118<\/td>\n",
              "    <\/tr>\n",
              "    <tr>\n",
              "      <th>MAPS_AND_NAVIGATION<\/th>\n",
              "      <td>118<\/td>\n",
              "    <\/tr>\n",
              "    <tr>\n",
              "      <th>ENTERTAINMENT<\/th>\n",
              "      <td>102<\/td>\n",
              "    <\/tr>\n",
              "    <tr>\n",
              "      <th>FOOD_AND_DRINK<\/th>\n",
              "      <td>94<\/td>\n",
              "    <\/tr>\n",
              "    <tr>\n",
              "      <th>AUTO_AND_VEHICLES<\/th>\n",
              "      <td>73<\/td>\n",
              "    <\/tr>\n",
              "    <tr>\n",
              "      <th>WEATHER<\/th>\n",
              "      <td>72<\/td>\n",
              "    <\/tr>\n",
              "    <tr>\n",
              "      <th>LIBRARIES_AND_DEMO<\/th>\n",
              "      <td>64<\/td>\n",
              "    <\/tr>\n",
              "    <tr>\n",
              "      <th>HOUSE_AND_HOME<\/th>\n",
              "      <td>62<\/td>\n",
              "    <\/tr>\n",
              "    <tr>\n",
              "      <th>ART_AND_DESIGN<\/th>\n",
              "      <td>61<\/td>\n",
              "    <\/tr>\n",
              "    <tr>\n",
              "      <th>COMICS<\/th>\n",
              "      <td>54<\/td>\n",
              "    <\/tr>\n",
              "    <tr>\n",
              "      <th>PARENTING<\/th>\n",
              "      <td>50<\/td>\n",
              "    <\/tr>\n",
              "    <tr>\n",
              "      <th>EVENTS<\/th>\n",
              "      <td>45<\/td>\n",
              "    <\/tr>\n",
              "    <tr>\n",
              "      <th>BEAUTY<\/th>\n",
              "      <td>42<\/td>\n",
              "    <\/tr>\n",
              "  <\/tbody>\n",
              "<\/table>\n",
              "<\/div>"
            ]
          },
          "metadata":{
            
          },
          "output_type":"display_data"
        }
      ],
      "metadata":{
        
      }
    },
    {
      "cell_type":"code",
      "source":[
        "cat_merged_df = pd.merge(cat_number, category_installs, on='Category', how='inner')\n",
        "print(f'The dimensions of the DataFrame are: {cat_merged_df.shape}')\n",
        "cat_merged_df.sort_values('Installs', ascending=False)"
      ],
      "execution_count":58,
      "outputs":[
        {
          "name":"stdout",
          "text":[
            "The dimensions of the DataFrame are: (33, 2)\n"
          ],
          "output_type":"stream"
        },
        {
          "data":{
            "text\/html":[
              "<div>\n",
              "<style scoped>\n",
              "    .dataframe tbody tr th:only-of-type {\n",
              "        vertical-align: middle;\n",
              "    }\n",
              "\n",
              "    .dataframe tbody tr th {\n",
              "        vertical-align: top;\n",
              "    }\n",
              "\n",
              "    .dataframe thead th {\n",
              "        text-align: right;\n",
              "    }\n",
              "<\/style>\n",
              "<table border=\"1\" class=\"dataframe\">\n",
              "  <thead>\n",
              "    <tr style=\"text-align: right;\">\n",
              "      <th><\/th>\n",
              "      <th>App<\/th>\n",
              "      <th>Installs<\/th>\n",
              "    <\/tr>\n",
              "    <tr>\n",
              "      <th>Category<\/th>\n",
              "      <th><\/th>\n",
              "      <th><\/th>\n",
              "    <\/tr>\n",
              "  <\/thead>\n",
              "  <tbody>\n",
              "    <tr>\n",
              "      <th>GAME<\/th>\n",
              "      <td>910<\/td>\n",
              "      <td>13858762717<\/td>\n",
              "    <\/tr>\n",
              "    <tr>\n",
              "      <th>COMMUNICATION<\/th>\n",
              "      <td>257<\/td>\n",
              "      <td>11039241530<\/td>\n",
              "    <\/tr>\n",
              "    <tr>\n",
              "      <th>TOOLS<\/th>\n",
              "      <td>718<\/td>\n",
              "      <td>7999724500<\/td>\n",
              "    <\/tr>\n",
              "    <tr>\n",
              "      <th>PRODUCTIVITY<\/th>\n",
              "      <td>301<\/td>\n",
              "      <td>5788070180<\/td>\n",
              "    <\/tr>\n",
              "    <tr>\n",
              "      <th>SOCIAL<\/th>\n",
              "      <td>203<\/td>\n",
              "      <td>5487841475<\/td>\n",
              "    <\/tr>\n",
              "    <tr>\n",
              "      <th>PHOTOGRAPHY<\/th>\n",
              "      <td>263<\/td>\n",
              "      <td>4649143130<\/td>\n",
              "    <\/tr>\n",
              "    <tr>\n",
              "      <th>FAMILY<\/th>\n",
              "      <td>1610<\/td>\n",
              "      <td>4437579590<\/td>\n",
              "    <\/tr>\n",
              "    <tr>\n",
              "      <th>VIDEO_PLAYERS<\/th>\n",
              "      <td>148<\/td>\n",
              "      <td>3916897200<\/td>\n",
              "    <\/tr>\n",
              "    <tr>\n",
              "      <th>TRAVEL_AND_LOCAL<\/th>\n",
              "      <td>187<\/td>\n",
              "      <td>2894859300<\/td>\n",
              "    <\/tr>\n",
              "    <tr>\n",
              "      <th>NEWS_AND_MAGAZINES<\/th>\n",
              "      <td>204<\/td>\n",
              "      <td>2369110650<\/td>\n",
              "    <\/tr>\n",
              "    <tr>\n",
              "      <th>ENTERTAINMENT<\/th>\n",
              "      <td>102<\/td>\n",
              "      <td>2113660000<\/td>\n",
              "    <\/tr>\n",
              "    <tr>\n",
              "      <th>BOOKS_AND_REFERENCE<\/th>\n",
              "      <td>169<\/td>\n",
              "      <td>1665791655<\/td>\n",
              "    <\/tr>\n",
              "    <tr>\n",
              "      <th>PERSONALIZATION<\/th>\n",
              "      <td>298<\/td>\n",
              "      <td>1532352930<\/td>\n",
              "    <\/tr>\n",
              "    <tr>\n",
              "      <th>SHOPPING<\/th>\n",
              "      <td>180<\/td>\n",
              "      <td>1400331540<\/td>\n",
              "    <\/tr>\n",
              "    <tr>\n",
              "      <th>HEALTH_AND_FITNESS<\/th>\n",
              "      <td>243<\/td>\n",
              "      <td>1134006220<\/td>\n",
              "    <\/tr>\n",
              "    <tr>\n",
              "      <th>SPORTS<\/th>\n",
              "      <td>260<\/td>\n",
              "      <td>1096431465<\/td>\n",
              "    <\/tr>\n",
              "    <tr>\n",
              "      <th>BUSINESS<\/th>\n",
              "      <td>262<\/td>\n",
              "      <td>692018120<\/td>\n",
              "    <\/tr>\n",
              "    <tr>\n",
              "      <th>LIFESTYLE<\/th>\n",
              "      <td>302<\/td>\n",
              "      <td>503742120<\/td>\n",
              "    <\/tr>\n",
              "    <tr>\n",
              "      <th>MAPS_AND_NAVIGATION<\/th>\n",
              "      <td>118<\/td>\n",
              "      <td>503267560<\/td>\n",
              "    <\/tr>\n",
              "    <tr>\n",
              "      <th>FINANCE<\/th>\n",
              "      <td>302<\/td>\n",
              "      <td>455312400<\/td>\n",
              "    <\/tr>\n",
              "    <tr>\n",
              "      <th>WEATHER<\/th>\n",
              "      <td>72<\/td>\n",
              "      <td>361096500<\/td>\n",
              "    <\/tr>\n",
              "    <tr>\n",
              "      <th>EDUCATION<\/th>\n",
              "      <td>118<\/td>\n",
              "      <td>352852000<\/td>\n",
              "    <\/tr>\n",
              "    <tr>\n",
              "      <th>FOOD_AND_DRINK<\/th>\n",
              "      <td>94<\/td>\n",
              "      <td>211677750<\/td>\n",
              "    <\/tr>\n",
              "    <tr>\n",
              "      <th>DATING<\/th>\n",
              "      <td>134<\/td>\n",
              "      <td>140912410<\/td>\n",
              "    <\/tr>\n",
              "    <tr>\n",
              "      <th>ART_AND_DESIGN<\/th>\n",
              "      <td>61<\/td>\n",
              "      <td>114233100<\/td>\n",
              "    <\/tr>\n",
              "    <tr>\n",
              "      <th>HOUSE_AND_HOME<\/th>\n",
              "      <td>62<\/td>\n",
              "      <td>97082000<\/td>\n",
              "    <\/tr>\n",
              "    <tr>\n",
              "      <th>AUTO_AND_VEHICLES<\/th>\n",
              "      <td>73<\/td>\n",
              "      <td>53129800<\/td>\n",
              "    <\/tr>\n",
              "    <tr>\n",
              "      <th>LIBRARIES_AND_DEMO<\/th>\n",
              "      <td>64<\/td>\n",
              "      <td>52083000<\/td>\n",
              "    <\/tr>\n",
              "    <tr>\n",
              "      <th>COMICS<\/th>\n",
              "      <td>54<\/td>\n",
              "      <td>44931100<\/td>\n",
              "    <\/tr>\n",
              "    <tr>\n",
              "      <th>MEDICAL<\/th>\n",
              "      <td>291<\/td>\n",
              "      <td>39062676<\/td>\n",
              "    <\/tr>\n",
              "    <tr>\n",
              "      <th>PARENTING<\/th>\n",
              "      <td>50<\/td>\n",
              "      <td>31116110<\/td>\n",
              "    <\/tr>\n",
              "    <tr>\n",
              "      <th>BEAUTY<\/th>\n",
              "      <td>42<\/td>\n",
              "      <td>26916200<\/td>\n",
              "    <\/tr>\n",
              "    <tr>\n",
              "      <th>EVENTS<\/th>\n",
              "      <td>45<\/td>\n",
              "      <td>15949410<\/td>\n",
              "    <\/tr>\n",
              "  <\/tbody>\n",
              "<\/table>\n",
              "<\/div>"
            ]
          },
          "metadata":{
            
          },
          "output_type":"display_data"
        }
      ],
      "metadata":{
        
      }
    },
    {
      "cell_type":"code",
      "source":[
        "fig = px.scatter(data_frame=cat_merged_df,\n",
        "                 x='App',\n",
        "                 y='Installs',\n",
        "                 size='App',\n",
        "                 color='Installs',\n",
        "                 hover_name=cat_merged_df.index,\n",
        "                 title='Category Concentration',)\n",
        "\n",
        "fig.update_layout(xaxis_title=\"Number of Apps (Lower=More Concentrated)\",\n",
        "                      yaxis_title=\"Installs\",\n",
        "                      yaxis=dict(type='log'))\n",
        "\n",
        "fig.show()"
      ],
      "execution_count":59,
      "outputs":[
        {
          "data":{
            "text\/plain":[
              "Unsupported"
            ]
          },
          "metadata":{
            
          },
          "output_type":"display_data"
        }
      ],
      "metadata":{
        
      }
    },
    {
      "cell_type":"markdown",
      "source":[
        "# Extracting Nested Data from a Column\n",
        "\n",
        "**Challenge**: How many different types of genres are there? Can an app belong to more than one genre? Check what happens when you use .value_counts() on a column with nested values? See if you can work around this problem by using the .split() function and the DataFrame's [.stack() method](https:\/\/pandas.pydata.org\/pandas-docs\/stable\/reference\/api\/pandas.DataFrame.stack.html). "
      ],
      "attachments":{
        
      },
      "metadata":{
        
      }
    },
    {
      "cell_type":"code",
      "source":[
        "df_apps_clean.Genres.value_counts()"
      ],
      "execution_count":60,
      "outputs":[
        {
          "data":{
            "text\/html":[
              
            ]
          },
          "metadata":{
            
          },
          "output_type":"display_data"
        }
      ],
      "metadata":{
        
      }
    },
    {
      "cell_type":"code",
      "source":[
        "stack = df_apps_clean.Genres.str.split(';', expand=True).stack()\n",
        "print(f'length of the stack column: {stack.shape[0]}')\n",
        "stack.value_counts()\n",
        "print(f'Number of genres: {len(stack.value_counts())}')\n",
        "stack"
      ],
      "execution_count":61,
      "outputs":[
        {
          "name":"stdout",
          "text":[
            "length of the stack column: 8577\n",
            "Number of genres: 53\n"
          ],
          "output_type":"stream"
        },
        {
          "data":{
            "text\/html":[
              
            ]
          },
          "metadata":{
            
          },
          "output_type":"display_data"
        }
      ],
      "metadata":{
        
      }
    },
    {
      "cell_type":"markdown",
      "source":[
        "# Colour Scales in Plotly Charts - Competition in Genres"
      ],
      "attachments":{
        
      },
      "metadata":{
        
      }
    },
    {
      "cell_type":"markdown",
      "source":[
        "**Challenge**: Can you create this chart with the Series containing the genre data? \n",
        "\n",
        "<img src=https:\/\/imgur.com\/DbcoQli.png width=400>\n",
        "\n",
        "Try experimenting with the built in colour scales in Plotly. You can find a full list [here](https:\/\/plotly.com\/python\/builtin-colorscales\/). \n",
        "\n",
        "* Find a way to set the colour scale using the color_continuous_scale parameter. \n",
        "* Find a way to make the color axis disappear by using coloraxis_showscale. "
      ],
      "attachments":{
        
      },
      "metadata":{
        
      }
    },
    {
      "cell_type":"code",
      "source":[
        "top15_genres = stack.value_counts()[:15]"
      ],
      "execution_count":62,
      "outputs":[
        
      ],
      "metadata":{
        
      }
    },
    {
      "cell_type":"code",
      "source":[
        "fig = px.bar(data_frame=top15_genres,\n",
        "             x=top15_genres.index,\n",
        "             y=top15_genres.values,\n",
        "             color=top15_genres.values,\n",
        "             color_continuous_scale=px.colors.sequential.Sunset,\n",
        "             title='Top 15 Genres')\n",
        "\n",
        "fig.update_layout(xaxis_title='Number of Apps',\n",
        "                  yaxis_title='Genres',\n",
        "                  coloraxis_showscale = False)\n",
        "\n",
        "\n",
        "\n",
        "\n",
        "fig.show()"
      ],
      "execution_count":63,
      "outputs":[
        {
          "data":{
            "text\/plain":[
              "Unsupported"
            ]
          },
          "metadata":{
            
          },
          "output_type":"display_data"
        }
      ],
      "metadata":{
        
      }
    },
    {
      "cell_type":"markdown",
      "source":[
        "# Grouped Bar Charts: Free vs. Paid Apps per Category"
      ],
      "attachments":{
        
      },
      "metadata":{
        
      }
    },
    {
      "cell_type":"code",
      "source":[
        "df_apps_clean.Type.value_counts()"
      ],
      "execution_count":64,
      "outputs":[
        {
          "data":{
            "text\/html":[
              
            ]
          },
          "metadata":{
            
          },
          "output_type":"display_data"
        }
      ],
      "metadata":{
        
      }
    },
    {
      "cell_type":"code",
      "source":[
        "df_free_vs_paid = df_apps_clean.groupby(['Category','Type'], as_index=False).agg({'App': pd.Series.count})\n",
        "df_free_vs_paid"
      ],
      "execution_count":65,
      "outputs":[
        {
          "data":{
            "text\/html":[
              "<div>\n",
              "<style scoped>\n",
              "    .dataframe tbody tr th:only-of-type {\n",
              "        vertical-align: middle;\n",
              "    }\n",
              "\n",
              "    .dataframe tbody tr th {\n",
              "        vertical-align: top;\n",
              "    }\n",
              "\n",
              "    .dataframe thead th {\n",
              "        text-align: right;\n",
              "    }\n",
              "<\/style>\n",
              "<table border=\"1\" class=\"dataframe\">\n",
              "  <thead>\n",
              "    <tr style=\"text-align: right;\">\n",
              "      <th><\/th>\n",
              "      <th>Category<\/th>\n",
              "      <th>Type<\/th>\n",
              "      <th>App<\/th>\n",
              "    <\/tr>\n",
              "  <\/thead>\n",
              "  <tbody>\n",
              "    <tr>\n",
              "      <th>0<\/th>\n",
              "      <td>ART_AND_DESIGN<\/td>\n",
              "      <td>Free<\/td>\n",
              "      <td>58<\/td>\n",
              "    <\/tr>\n",
              "    <tr>\n",
              "      <th>1<\/th>\n",
              "      <td>ART_AND_DESIGN<\/td>\n",
              "      <td>Paid<\/td>\n",
              "      <td>3<\/td>\n",
              "    <\/tr>\n",
              "    <tr>\n",
              "      <th>2<\/th>\n",
              "      <td>AUTO_AND_VEHICLES<\/td>\n",
              "      <td>Free<\/td>\n",
              "      <td>72<\/td>\n",
              "    <\/tr>\n",
              "    <tr>\n",
              "      <th>3<\/th>\n",
              "      <td>AUTO_AND_VEHICLES<\/td>\n",
              "      <td>Paid<\/td>\n",
              "      <td>1<\/td>\n",
              "    <\/tr>\n",
              "    <tr>\n",
              "      <th>4<\/th>\n",
              "      <td>BEAUTY<\/td>\n",
              "      <td>Free<\/td>\n",
              "      <td>42<\/td>\n",
              "    <\/tr>\n",
              "    <tr>\n",
              "      <th>...<\/th>\n",
              "      <td>...<\/td>\n",
              "      <td>...<\/td>\n",
              "      <td>...<\/td>\n",
              "    <\/tr>\n",
              "    <tr>\n",
              "      <th>56<\/th>\n",
              "      <td>TRAVEL_AND_LOCAL<\/td>\n",
              "      <td>Paid<\/td>\n",
              "      <td>8<\/td>\n",
              "    <\/tr>\n",
              "    <tr>\n",
              "      <th>57<\/th>\n",
              "      <td>VIDEO_PLAYERS<\/td>\n",
              "      <td>Free<\/td>\n",
              "      <td>144<\/td>\n",
              "    <\/tr>\n",
              "    <tr>\n",
              "      <th>58<\/th>\n",
              "      <td>VIDEO_PLAYERS<\/td>\n",
              "      <td>Paid<\/td>\n",
              "      <td>4<\/td>\n",
              "    <\/tr>\n",
              "    <tr>\n",
              "      <th>59<\/th>\n",
              "      <td>WEATHER<\/td>\n",
              "      <td>Free<\/td>\n",
              "      <td>65<\/td>\n",
              "    <\/tr>\n",
              "    <tr>\n",
              "      <th>60<\/th>\n",
              "      <td>WEATHER<\/td>\n",
              "      <td>Paid<\/td>\n",
              "      <td>7<\/td>\n",
              "    <\/tr>\n",
              "  <\/tbody>\n",
              "<\/table>\n",
              "<p>61 rows × 3 columns<\/p>\n",
              "<\/div>"
            ]
          },
          "metadata":{
            
          },
          "output_type":"display_data"
        }
      ],
      "metadata":{
        
      }
    },
    {
      "cell_type":"markdown",
      "source":[
        "**Challenge**: Use the plotly express bar [chart examples](https:\/\/plotly.com\/python\/bar-charts\/#bar-chart-with-sorted-or-ordered-categories) and the [.bar() API reference](https:\/\/plotly.com\/python-api-reference\/generated\/plotly.express.bar.html#plotly.express.bar) to create this bar chart: \n",
        "\n",
        "<img src=https:\/\/imgur.com\/LE0XCxA.png>\n",
        "\n",
        "You'll want to use the `df_free_vs_paid` DataFrame that you created above that has the total number of free and paid apps per category. \n",
        "\n",
        "See if you can figure out how to get the look above by changing the `categoryorder` to 'total descending' as outlined in the documentation here [here](https:\/\/plotly.com\/python\/categorical-axes\/#automatically-sorting-categories-by-name-or-total-value). "
      ],
      "attachments":{
        
      },
      "metadata":{
        
      }
    },
    {
      "cell_type":"code",
      "source":[
        "fig = px.bar(df_free_vs_paid, x=\"Category\", y=\"App\", color=\"Type\", barmode=\"group\", title='Free vs Paid Apps by Category')\n",
        "\n",
        "fig.update_layout(xaxis_title=\"Category\",\n",
        "                      yaxis_title=\"Number of Apps\",\n",
        "                      yaxis=dict(type='log'),\n",
        "                  xaxis_categoryorder='total descending')\n",
        "\n",
        "fig.show()"
      ],
      "execution_count":66,
      "outputs":[
        {
          "data":{
            "text\/plain":[
              "Unsupported"
            ]
          },
          "metadata":{
            
          },
          "output_type":"display_data"
        }
      ],
      "metadata":{
        
      }
    },
    {
      "cell_type":"markdown",
      "source":[
        "# Plotly Box Plots: Lost Downloads for Paid Apps\n",
        "\n",
        "**Challenge**: Create a box plot that shows the number of Installs for free versus paid apps. How does the median number of installations compare? Is the difference large or small?\n",
        "\n",
        "Use the [Box Plots Guide](https:\/\/plotly.com\/python\/box-plots\/) and the [.box API reference](https:\/\/plotly.com\/python-api-reference\/generated\/plotly.express.box.html) to create the following chart. \n",
        "\n",
        "<img src=https:\/\/imgur.com\/uVsECT3.png>"
      ],
      "attachments":{
        
      },
      "metadata":{
        
      }
    },
    {
      "cell_type":"code",
      "source":[
        "fig = px.box(df_apps_clean, x=\"Type\", y=\"Installs\", color=\"Type\", points='all', notched=True, title='How Many Downloads are Paid Apps Giving Up?')\n",
        "\n",
        "fig.update_layout(yaxis=dict(type='log'))\n",
        "\n",
        "fig.show()"
      ],
      "execution_count":67,
      "outputs":[
        {
          "data":{
            "text\/plain":[
              "Unsupported"
            ]
          },
          "metadata":{
            
          },
          "output_type":"display_data"
        }
      ],
      "metadata":{
        
      }
    },
    {
      "cell_type":"markdown",
      "source":[
        "# Plotly Box Plots: Revenue by App Category\n",
        "\n",
        "**Challenge**: See if you can generate the chart below: \n",
        "\n",
        "<img src=https:\/\/imgur.com\/v4CiNqX.png>\n",
        "\n",
        "Looking at the hover text, how much does the median app earn in the Tools category? If developing an Android app costs $30,000 or thereabouts, does the average photography app recoup its development costs?\n",
        "\n",
        "Hint: I've used 'min ascending' to sort the categories. "
      ],
      "attachments":{
        
      },
      "metadata":{
        
      }
    },
    {
      "cell_type":"code",
      "source":[
        "df_apps_clean.head()"
      ],
      "execution_count":68,
      "outputs":[
        {
          "data":{
            "text\/html":[
              "<div>\n",
              "<style scoped>\n",
              "    .dataframe tbody tr th:only-of-type {\n",
              "        vertical-align: middle;\n",
              "    }\n",
              "\n",
              "    .dataframe tbody tr th {\n",
              "        vertical-align: top;\n",
              "    }\n",
              "\n",
              "    .dataframe thead th {\n",
              "        text-align: right;\n",
              "    }\n",
              "<\/style>\n",
              "<table border=\"1\" class=\"dataframe\">\n",
              "  <thead>\n",
              "    <tr style=\"text-align: right;\">\n",
              "      <th><\/th>\n",
              "      <th>App<\/th>\n",
              "      <th>Category<\/th>\n",
              "      <th>Rating<\/th>\n",
              "      <th>Reviews<\/th>\n",
              "      <th>Size_MBs<\/th>\n",
              "      <th>Installs<\/th>\n",
              "      <th>Type<\/th>\n",
              "      <th>Price<\/th>\n",
              "      <th>Content_Rating<\/th>\n",
              "      <th>Genres<\/th>\n",
              "      <th>Revenue_Estimate<\/th>\n",
              "    <\/tr>\n",
              "  <\/thead>\n",
              "  <tbody>\n",
              "    <tr>\n",
              "      <th>21<\/th>\n",
              "      <td>KBA-EZ Health Guide<\/td>\n",
              "      <td>MEDICAL<\/td>\n",
              "      <td>5.00<\/td>\n",
              "      <td>4<\/td>\n",
              "      <td>25.00<\/td>\n",
              "      <td>1<\/td>\n",
              "      <td>Free<\/td>\n",
              "      <td>0.00<\/td>\n",
              "      <td>Everyone<\/td>\n",
              "      <td>Medical<\/td>\n",
              "      <td>0.00<\/td>\n",
              "    <\/tr>\n",
              "    <tr>\n",
              "      <th>28<\/th>\n",
              "      <td>Ra Ga Ba<\/td>\n",
              "      <td>GAME<\/td>\n",
              "      <td>5.00<\/td>\n",
              "      <td>2<\/td>\n",
              "      <td>20.00<\/td>\n",
              "      <td>1<\/td>\n",
              "      <td>Paid<\/td>\n",
              "      <td>1.49<\/td>\n",
              "      <td>Everyone<\/td>\n",
              "      <td>Arcade<\/td>\n",
              "      <td>1.49<\/td>\n",
              "    <\/tr>\n",
              "    <tr>\n",
              "      <th>47<\/th>\n",
              "      <td>Mu.F.O.<\/td>\n",
              "      <td>GAME<\/td>\n",
              "      <td>5.00<\/td>\n",
              "      <td>2<\/td>\n",
              "      <td>16.00<\/td>\n",
              "      <td>1<\/td>\n",
              "      <td>Paid<\/td>\n",
              "      <td>0.99<\/td>\n",
              "      <td>Everyone<\/td>\n",
              "      <td>Arcade<\/td>\n",
              "      <td>0.99<\/td>\n",
              "    <\/tr>\n",
              "    <tr>\n",
              "      <th>82<\/th>\n",
              "      <td>Brick Breaker BR<\/td>\n",
              "      <td>GAME<\/td>\n",
              "      <td>5.00<\/td>\n",
              "      <td>7<\/td>\n",
              "      <td>19.00<\/td>\n",
              "      <td>5<\/td>\n",
              "      <td>Free<\/td>\n",
              "      <td>0.00<\/td>\n",
              "      <td>Everyone<\/td>\n",
              "      <td>Arcade<\/td>\n",
              "      <td>0.00<\/td>\n",
              "    <\/tr>\n",
              "    <tr>\n",
              "      <th>99<\/th>\n",
              "      <td>Anatomy &amp; Physiology Vocabulary Exam Review App<\/td>\n",
              "      <td>MEDICAL<\/td>\n",
              "      <td>5.00<\/td>\n",
              "      <td>1<\/td>\n",
              "      <td>4.60<\/td>\n",
              "      <td>5<\/td>\n",
              "      <td>Free<\/td>\n",
              "      <td>0.00<\/td>\n",
              "      <td>Everyone<\/td>\n",
              "      <td>Medical<\/td>\n",
              "      <td>0.00<\/td>\n",
              "    <\/tr>\n",
              "  <\/tbody>\n",
              "<\/table>\n",
              "<\/div>"
            ]
          },
          "metadata":{
            
          },
          "output_type":"display_data"
        }
      ],
      "metadata":{
        
      }
    },
    {
      "cell_type":"code",
      "source":[
        "df_paid_apps = df_apps_clean[df_apps_clean.Type == 'Paid']\n",
        "df_paid_apps.head()"
      ],
      "execution_count":69,
      "outputs":[
        {
          "data":{
            "text\/html":[
              "<div>\n",
              "<style scoped>\n",
              "    .dataframe tbody tr th:only-of-type {\n",
              "        vertical-align: middle;\n",
              "    }\n",
              "\n",
              "    .dataframe tbody tr th {\n",
              "        vertical-align: top;\n",
              "    }\n",
              "\n",
              "    .dataframe thead th {\n",
              "        text-align: right;\n",
              "    }\n",
              "<\/style>\n",
              "<table border=\"1\" class=\"dataframe\">\n",
              "  <thead>\n",
              "    <tr style=\"text-align: right;\">\n",
              "      <th><\/th>\n",
              "      <th>App<\/th>\n",
              "      <th>Category<\/th>\n",
              "      <th>Rating<\/th>\n",
              "      <th>Reviews<\/th>\n",
              "      <th>Size_MBs<\/th>\n",
              "      <th>Installs<\/th>\n",
              "      <th>Type<\/th>\n",
              "      <th>Price<\/th>\n",
              "      <th>Content_Rating<\/th>\n",
              "      <th>Genres<\/th>\n",
              "      <th>Revenue_Estimate<\/th>\n",
              "    <\/tr>\n",
              "  <\/thead>\n",
              "  <tbody>\n",
              "    <tr>\n",
              "      <th>28<\/th>\n",
              "      <td>Ra Ga Ba<\/td>\n",
              "      <td>GAME<\/td>\n",
              "      <td>5.00<\/td>\n",
              "      <td>2<\/td>\n",
              "      <td>20.00<\/td>\n",
              "      <td>1<\/td>\n",
              "      <td>Paid<\/td>\n",
              "      <td>1.49<\/td>\n",
              "      <td>Everyone<\/td>\n",
              "      <td>Arcade<\/td>\n",
              "      <td>1.49<\/td>\n",
              "    <\/tr>\n",
              "    <tr>\n",
              "      <th>47<\/th>\n",
              "      <td>Mu.F.O.<\/td>\n",
              "      <td>GAME<\/td>\n",
              "      <td>5.00<\/td>\n",
              "      <td>2<\/td>\n",
              "      <td>16.00<\/td>\n",
              "      <td>1<\/td>\n",
              "      <td>Paid<\/td>\n",
              "      <td>0.99<\/td>\n",
              "      <td>Everyone<\/td>\n",
              "      <td>Arcade<\/td>\n",
              "      <td>0.99<\/td>\n",
              "    <\/tr>\n",
              "    <tr>\n",
              "      <th>233<\/th>\n",
              "      <td>Chess of Blades (BL\/Yaoi Game) (No VA)<\/td>\n",
              "      <td>FAMILY<\/td>\n",
              "      <td>4.80<\/td>\n",
              "      <td>4<\/td>\n",
              "      <td>23.00<\/td>\n",
              "      <td>10<\/td>\n",
              "      <td>Paid<\/td>\n",
              "      <td>14.99<\/td>\n",
              "      <td>Teen<\/td>\n",
              "      <td>Casual<\/td>\n",
              "      <td>149.90<\/td>\n",
              "    <\/tr>\n",
              "    <tr>\n",
              "      <th>248<\/th>\n",
              "      <td>The DG Buddy<\/td>\n",
              "      <td>BUSINESS<\/td>\n",
              "      <td>3.70<\/td>\n",
              "      <td>3<\/td>\n",
              "      <td>11.00<\/td>\n",
              "      <td>10<\/td>\n",
              "      <td>Paid<\/td>\n",
              "      <td>2.49<\/td>\n",
              "      <td>Everyone<\/td>\n",
              "      <td>Business<\/td>\n",
              "      <td>24.90<\/td>\n",
              "    <\/tr>\n",
              "    <tr>\n",
              "      <th>291<\/th>\n",
              "      <td>AC DC Power Monitor<\/td>\n",
              "      <td>LIFESTYLE<\/td>\n",
              "      <td>5.00<\/td>\n",
              "      <td>1<\/td>\n",
              "      <td>1.20<\/td>\n",
              "      <td>10<\/td>\n",
              "      <td>Paid<\/td>\n",
              "      <td>3.04<\/td>\n",
              "      <td>Everyone<\/td>\n",
              "      <td>Lifestyle<\/td>\n",
              "      <td>30.40<\/td>\n",
              "    <\/tr>\n",
              "  <\/tbody>\n",
              "<\/table>\n",
              "<\/div>"
            ]
          },
          "metadata":{
            
          },
          "output_type":"display_data"
        }
      ],
      "metadata":{
        
      }
    },
    {
      "cell_type":"code",
      "source":[
        "fig = px.box(df_paid_apps, x=\"Category\", y=\"Revenue_Estimate\", notched=False, title='How Much Can Paid Apps Earn?')\n",
        "\n",
        "fig.update_layout(yaxis=dict(type='log'), xaxis={'categoryorder': 'min ascending'})\n",
        "\n",
        "fig.show()"
      ],
      "execution_count":70,
      "outputs":[
        {
          "data":{
            "text\/plain":[
              "Unsupported"
            ]
          },
          "metadata":{
            
          },
          "output_type":"display_data"
        }
      ],
      "metadata":{
        
      }
    },
    {
      "cell_type":"markdown",
      "source":[
        "# How Much Can You Charge? Examine Paid App Pricing Strategies by Category\n",
        "\n",
        "**Challenge**: What is the median price price for a paid app? Then compare pricing by category by creating another box plot. But this time examine the prices (instead of the revenue estimates) of the paid apps. I recommend using `{categoryorder':'max descending'}` to sort the categories."
      ],
      "attachments":{
        
      },
      "metadata":{
        
      }
    },
    {
      "cell_type":"code",
      "source":[
        "df_paid_apps.Price.median()"
      ],
      "execution_count":71,
      "outputs":[
        {
          "data":{
            "text\/plain":[
              "2.99"
            ]
          },
          "metadata":{
            
          },
          "output_type":"display_data"
        }
      ],
      "metadata":{
        
      }
    },
    {
      "cell_type":"code",
      "source":[
        "box = px.box(df_paid_apps,\n",
        "             x='Category',\n",
        "             y=\"Price\",\n",
        "             title='Price per Category')\n",
        " \n",
        "box.update_layout(xaxis_title='Category',\n",
        "                  yaxis_title='Paid App Price',\n",
        "                  xaxis={'categoryorder':'max descending'},\n",
        "                  yaxis=dict(type='log'))\n",
        " \n",
        "box.show()"
      ],
      "execution_count":72,
      "outputs":[
        {
          "data":{
            "text\/plain":[
              "Unsupported"
            ]
          },
          "metadata":{
            
          },
          "output_type":"display_data"
        }
      ],
      "metadata":{
        
      }
    },
    {
      "cell_type":"code",
      "source":[
        
      ],
      "execution_count":0,
      "outputs":[
        
      ],
      "metadata":{
        
      }
    }
  ],
  "metadata":{
    
  },
  "nbformat":4,
  "nbformat_minor":0
}